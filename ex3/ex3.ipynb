{
 "cells": [
  {
   "cell_type": "markdown",
   "metadata": {},
   "source": [
    "# 課題3\n",
    "\n",
    "配点\n",
    "- 10P"
   ]
  },
  {
   "cell_type": "markdown",
   "metadata": {},
   "source": [
    "`population.csv`ファイルと`patients.csv`ファイルにはそれぞれ以下のように都道府県ごとの人口（2017年度の数値）と都道府県ごとのcovid-19の感染者数（2020年4月25日時点）のデータが含まれています。\n",
    "\n",
    "```Python\n",
    "## population.csvファイル\n",
    "Prefecture, Population\n",
    "北海道, 5320000\n",
    "青森県, 1278000\n",
    "岩手県, 1255000\n",
    "...\n",
    "\n",
    "## patients.csvファイル\n",
    "Prefecture, Patients\n",
    "埼玉県, 767\n",
    "千葉県, 768\n",
    "東京都, 3733\n",
    "...\n",
    "```\n",
    "\n",
    "これらのデータを元に、各都道府県ごとの**10万人あたりの感染者数**を求め、それらの記述統計（中心傾向、ばらつき、分布など）を分析し、分析の結果を元に全国の感染の状況について自由に論じてください。テキストの記述にはMarkdownセルが利用できます。\n",
    "\n",
    "- [Markdown Cells](https://jupyter-notebook.readthedocs.io/en/stable/examples/Notebook/Working%20With%20Markdown%20Cells.html)\n",
    "- [Markdown記法サンプル集](https://qiita.com/tbpgr/items/989c6badefff69377da7)\n",
    "\n",
    "\n",
    "参考文献\n",
    "- [教育用標準データセット 都道府県別データ](https://www.nstac.go.jp/SSDSE/)\n",
    "- [新型コロナウイルス 国内感染の状況](https://github.com/kaz-ogiwara/covid19)"
   ]
  },
  {
   "cell_type": "code",
   "execution_count": 6,
   "metadata": {},
   "outputs": [],
   "source": [
    "import pandas as pd\n",
    "### 人口データのデータフレーム  = pd.read_csv('population.csv')\n",
    "### 感染者数データのデータフレーム = pd.read_csv('patients.csv')"
   ]
  }
 ],
 "metadata": {
  "kernelspec": {
   "display_name": "Python 3",
   "language": "python",
   "name": "python3"
  },
  "language_info": {
   "codemirror_mode": {
    "name": "ipython",
    "version": 3
   },
   "file_extension": ".py",
   "mimetype": "text/x-python",
   "name": "python",
   "nbconvert_exporter": "python",
   "pygments_lexer": "ipython3",
   "version": "3.6.7"
  }
 },
 "nbformat": 4,
 "nbformat_minor": 2
}
