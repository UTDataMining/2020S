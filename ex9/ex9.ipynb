{
 "cells": [
  {
   "cell_type": "markdown",
   "metadata": {},
   "source": [
    "# 課題9 \n",
    "配点\n",
    "- Q1.1 1P\n",
    "- Q1.2 1P\n",
    "- Q2.1 1P\n",
    "- Q2.2 2P\n",
    "- Q3.1 1\n",
    "- Q3.2 4P\n"
   ]
  },
  {
   "cell_type": "code",
   "execution_count": 366,
   "metadata": {},
   "outputs": [],
   "source": [
    "import numpy as np\n",
    "import pandas as pd\n",
    "import  matplotlib.pyplot  as plt\n",
    "%matplotlib inline"
   ]
  },
  {
   "cell_type": "markdown",
   "metadata": {},
   "source": [
    "## Q1.1 多項式による線形回帰\n",
    "`scikit-learn`モジュールの`PolynomialFeatures`クラスを使うと入力の特徴量から多項や交差項の特徴量を生成することができます。多項や交差項の特徴量を導入にすることによりモデルが複雑になり、訓練データへのより柔軟な適合が可能になります。\n",
    "\n",
    "例えば、多項式の次数としてパラメータ`degree`に2を指定すると、1変数の入力$x$に対して、1（バイアス項), $x$, $x^2$、の3つの特徴量を生成します。2変数入力$x_1, x_2$の場合は、1, $x_1$, $x_2$, $x_1^2$, $x_1x_2$, $x_2^2$、の特徴量が生成されます。バイアス項を生成しない場合はパラメータ`include_bias`に`False`を指定します。\n",
    "\n",
    "[PolynomialFeatures](https://scikit-learn.org/stable/modules/generated/sklearn.preprocessing.PolynomialFeatures.html#sklearn.preprocessing.PolynomialFeatures)"
   ]
  },
  {
   "cell_type": "code",
   "execution_count": 367,
   "metadata": {},
   "outputs": [
    {
     "name": "stdout",
     "output_type": "stream",
     "text": [
      "[[ 1.    1.4   1.96]\n",
      " [ 1.    1.4   1.96]\n",
      " [ 1.    1.3   1.69]\n",
      " [ 1.    1.5   2.25]\n",
      " [ 1.    1.4   1.96]\n",
      " [ 1.    1.7   2.89]\n",
      " [ 1.    1.4   1.96]\n",
      " [ 1.    1.5   2.25]\n",
      " [ 1.    1.4   1.96]\n",
      " [ 1.    1.5   2.25]\n",
      " [ 1.    1.5   2.25]\n",
      " [ 1.    1.6   2.56]\n",
      " [ 1.    1.4   1.96]\n",
      " [ 1.    1.1   1.21]\n",
      " [ 1.    1.2   1.44]\n",
      " [ 1.    1.5   2.25]\n",
      " [ 1.    1.3   1.69]\n",
      " [ 1.    1.4   1.96]\n",
      " [ 1.    1.7   2.89]\n",
      " [ 1.    1.5   2.25]\n",
      " [ 1.    1.7   2.89]\n",
      " [ 1.    1.5   2.25]\n",
      " [ 1.    1.    1.  ]\n",
      " [ 1.    1.7   2.89]\n",
      " [ 1.    1.9   3.61]\n",
      " [ 1.    1.6   2.56]\n",
      " [ 1.    1.6   2.56]\n",
      " [ 1.    1.5   2.25]\n",
      " [ 1.    1.4   1.96]\n",
      " [ 1.    1.6   2.56]\n",
      " [ 1.    1.6   2.56]\n",
      " [ 1.    1.5   2.25]\n",
      " [ 1.    1.5   2.25]\n",
      " [ 1.    1.4   1.96]\n",
      " [ 1.    1.5   2.25]\n",
      " [ 1.    1.2   1.44]\n",
      " [ 1.    1.3   1.69]\n",
      " [ 1.    1.5   2.25]\n",
      " [ 1.    1.3   1.69]\n",
      " [ 1.    1.5   2.25]\n",
      " [ 1.    1.3   1.69]\n",
      " [ 1.    1.3   1.69]\n",
      " [ 1.    1.3   1.69]\n",
      " [ 1.    1.6   2.56]\n",
      " [ 1.    1.9   3.61]\n",
      " [ 1.    1.4   1.96]\n",
      " [ 1.    1.6   2.56]\n",
      " [ 1.    1.4   1.96]\n",
      " [ 1.    1.5   2.25]\n",
      " [ 1.    1.4   1.96]\n",
      " [ 1.    4.7  22.09]\n",
      " [ 1.    4.5  20.25]\n",
      " [ 1.    4.9  24.01]\n",
      " [ 1.    4.   16.  ]\n",
      " [ 1.    4.6  21.16]\n",
      " [ 1.    4.5  20.25]\n",
      " [ 1.    4.7  22.09]\n",
      " [ 1.    3.3  10.89]\n",
      " [ 1.    4.6  21.16]\n",
      " [ 1.    3.9  15.21]\n",
      " [ 1.    3.5  12.25]\n",
      " [ 1.    4.2  17.64]\n",
      " [ 1.    4.   16.  ]\n",
      " [ 1.    4.7  22.09]\n",
      " [ 1.    3.6  12.96]\n",
      " [ 1.    4.4  19.36]\n",
      " [ 1.    4.5  20.25]\n",
      " [ 1.    4.1  16.81]\n",
      " [ 1.    4.5  20.25]\n",
      " [ 1.    3.9  15.21]\n",
      " [ 1.    4.8  23.04]\n",
      " [ 1.    4.   16.  ]\n",
      " [ 1.    4.9  24.01]\n",
      " [ 1.    4.7  22.09]\n",
      " [ 1.    4.3  18.49]\n",
      " [ 1.    4.4  19.36]\n",
      " [ 1.    4.8  23.04]\n",
      " [ 1.    5.   25.  ]\n",
      " [ 1.    4.5  20.25]\n",
      " [ 1.    3.5  12.25]\n",
      " [ 1.    3.8  14.44]\n",
      " [ 1.    3.7  13.69]\n",
      " [ 1.    3.9  15.21]\n",
      " [ 1.    5.1  26.01]\n",
      " [ 1.    4.5  20.25]\n",
      " [ 1.    4.5  20.25]\n",
      " [ 1.    4.7  22.09]\n",
      " [ 1.    4.4  19.36]\n",
      " [ 1.    4.1  16.81]\n",
      " [ 1.    4.   16.  ]\n",
      " [ 1.    4.4  19.36]\n",
      " [ 1.    4.6  21.16]\n",
      " [ 1.    4.   16.  ]\n",
      " [ 1.    3.3  10.89]\n",
      " [ 1.    4.2  17.64]\n",
      " [ 1.    4.2  17.64]\n",
      " [ 1.    4.2  17.64]\n",
      " [ 1.    4.3  18.49]\n",
      " [ 1.    3.    9.  ]\n",
      " [ 1.    4.1  16.81]\n",
      " [ 1.    6.   36.  ]\n",
      " [ 1.    5.1  26.01]\n",
      " [ 1.    5.9  34.81]\n",
      " [ 1.    5.6  31.36]\n",
      " [ 1.    5.8  33.64]\n",
      " [ 1.    6.6  43.56]\n",
      " [ 1.    4.5  20.25]\n",
      " [ 1.    6.3  39.69]\n",
      " [ 1.    5.8  33.64]\n",
      " [ 1.    6.1  37.21]\n",
      " [ 1.    5.1  26.01]\n",
      " [ 1.    5.3  28.09]\n",
      " [ 1.    5.5  30.25]\n",
      " [ 1.    5.   25.  ]\n",
      " [ 1.    5.1  26.01]\n",
      " [ 1.    5.3  28.09]\n",
      " [ 1.    5.5  30.25]\n",
      " [ 1.    6.7  44.89]\n",
      " [ 1.    6.9  47.61]\n",
      " [ 1.    5.   25.  ]\n",
      " [ 1.    5.7  32.49]\n",
      " [ 1.    4.9  24.01]\n",
      " [ 1.    6.7  44.89]\n",
      " [ 1.    4.9  24.01]\n",
      " [ 1.    5.7  32.49]\n",
      " [ 1.    6.   36.  ]\n",
      " [ 1.    4.8  23.04]\n",
      " [ 1.    4.9  24.01]\n",
      " [ 1.    5.6  31.36]\n",
      " [ 1.    5.8  33.64]\n",
      " [ 1.    6.1  37.21]\n",
      " [ 1.    6.4  40.96]\n",
      " [ 1.    5.6  31.36]\n",
      " [ 1.    5.1  26.01]\n",
      " [ 1.    5.6  31.36]\n",
      " [ 1.    6.1  37.21]\n",
      " [ 1.    5.6  31.36]\n",
      " [ 1.    5.5  30.25]\n",
      " [ 1.    4.8  23.04]\n",
      " [ 1.    5.4  29.16]\n",
      " [ 1.    5.6  31.36]\n",
      " [ 1.    5.1  26.01]\n",
      " [ 1.    5.1  26.01]\n",
      " [ 1.    5.9  34.81]\n",
      " [ 1.    5.7  32.49]\n",
      " [ 1.    5.2  27.04]\n",
      " [ 1.    5.   25.  ]\n",
      " [ 1.    5.2  27.04]\n",
      " [ 1.    5.4  29.16]\n",
      " [ 1.    5.1  26.01]]\n"
     ]
    }
   ],
   "source": [
    "from sklearn.preprocessing import PolynomialFeatures\n",
    "\n",
    "iris = pd.read_csv('iris.csv')\n",
    "X=iris[['petal_length']].values # 入力X\n",
    "y=iris[['petal_width']].values # 出力y\n",
    "\n",
    "print(PolynomialFeatures(degree=2).fit_transform(X)) # 1, x, x^2、の特徴量"
   ]
  },
  {
   "cell_type": "markdown",
   "metadata": {},
   "source": [
    "以下の関数`iris_poly_regression()`では、課題8で用いたirisデータセットの特徴量`petal_length`から引数`n`の次数の多項式の特徴量を生成し、それらの特徴量を用いて線形回帰（`LinearRegression`）により特徴量`petal_width`を予測するモデルを学習しています。\n",
    "\n",
    "[LinearRegression](https://scikit-learn.org/stable/modules/generated/sklearn.linear_model.LinearRegression.html)\n",
    "\n",
    "データセットは`tran_test_split`関数を使って、70%をモデル学習の訓練データ、30%をモデル評価のテストデータに分割しています。\n",
    "\n",
    "[train_test_split](https://scikit-learn.org/stable/modules/generated/sklearn.model_selection.train_test_split.html)\n",
    "\n",
    "モデル評価は平均二乗誤差（`mean_squared_error`）で行います。\n",
    "\n",
    "[mean_squared_error](https://scikit-learn.org/stable/modules/generated/sklearn.metrics.mean_squared_error.html)\n"
   ]
  },
  {
   "cell_type": "code",
   "execution_count": 368,
   "metadata": {},
   "outputs": [],
   "source": [
    "from sklearn.linear_model import LinearRegression\n",
    "from sklearn.metrics import mean_squared_error\n",
    "from sklearn.preprocessing import PolynomialFeatures\n",
    "from sklearn.model_selection import train_test_split\n",
    "\n",
    "def iris_poly_regression(n):\n",
    "    # 引数 n: 多項式の次数 \n",
    "\n",
    "    iris = pd.read_csv('iris.csv')\n",
    "    X=iris[['petal_length']].values # 入力X\n",
    "    y=iris[['petal_width']].values # 出力y\n",
    "\n",
    "    # 訓練データとテストデータに分割\n",
    "    X_train, X_test, y_train, y_test = train_test_split(X, y, test_size=0.3, random_state=0)\n",
    "\n",
    "    # 入力からn次多項式の特徴量を生成\n",
    "    # バイアス項はLinearRegression内で作成されるのでFalse\n",
    "    poly=PolynomialFeatures(degree=n, include_bias=False)\n",
    "    poly_X_train=poly.fit_transform(X_train)\n",
    "    poly_X_test=poly.fit_transform(X_test)\n",
    "\n",
    "    # 訓練データへ適合\n",
    "    model=LinearRegression(normalize=True) # normalize=Trueで各特徴量を標準化\n",
    "    model.fit(poly_X_train, y_train) \n",
    "\n",
    "    # 訓練データ誤差\n",
    "    y_predicted_train=model.predict(poly_X_train)\n",
    "    train_loss =mean_squared_error(y_train,y_predicted_train)\n",
    "    print('Train Loss', train_loss)\n",
    "\n",
    "    # テストデータ誤差\n",
    "    y_predicted_test=model.predict(poly_X_test) \n",
    "    test_loss = mean_squared_error(y_test,y_predicted_test)\n",
    "    print('Test Loss', test_loss)\n",
    "\n",
    "    #パラメータ\n",
    "    #print(model.intercept_)\n",
    "    #print(model.coef_)\n",
    "\n",
    "    # 曲線描画用のデータポイント\n",
    "    X_point=np.arange(X.min(),X.max(),0.1)[:,np.newaxis]\n",
    "    y_point=model.predict(poly.fit_transform(X_point))\n",
    "\n",
    "    plt.figure(figsize=(7,5))\n",
    "    plt.xlabel('petal_length')\n",
    "    plt.ylabel('petal_width')\n",
    "    plt.scatter(X_train, y_train,c='blue') # 訓練データ\n",
    "    plt.scatter(X_test, y_test,c='green') # テストデータ\n",
    "    plt.plot(X_point, y_point, color='red');\n",
    "    \n",
    "    return train_loss, test_loss"
   ]
  },
  {
   "cell_type": "markdown",
   "metadata": {},
   "source": [
    "多項式の次数$n$を変化させて、入力（petal_lengthの値）と出力（入力から予測されたpetal_widthの値）の対応がどのように変化するか、特に次数が大きくなり学習モデルが複雑になると訓練データ（青のデータポイント）に適合しすぎてしまう過学習が起こることを観察してください。"
   ]
  },
  {
   "cell_type": "code",
   "execution_count": 369,
   "metadata": {},
   "outputs": [
    {
     "name": "stdout",
     "output_type": "stream",
     "text": [
      "Train Loss 0.037464337295963115\n",
      "Test Loss 0.0536470856777113\n"
     ]
    },
    {
     "data": {
      "image/png": "[encoded data removed]",
      "text/plain": [
       "<Figure size 504x360 with 1 Axes>"
      ]
     },
     "metadata": {
      "needs_background": "light"
     },
     "output_type": "display_data"
    }
   ],
   "source": [
    "train_loss, test_loss = iris_poly_regression(1)"
   ]
  },
  {
   "cell_type": "code",
   "execution_count": 370,
   "metadata": {},
   "outputs": [
    {
     "name": "stdout",
     "output_type": "stream",
     "text": [
      "Train Loss 0.03183826195559588\n",
      "Test Loss 0.05068490214292465\n"
     ]
    },
    {
     "data": {
      "image/png": "[encoded data removed]",
      "text/plain": [
       "<Figure size 504x360 with 1 Axes>"
      ]
     },
     "metadata": {
      "needs_background": "light"
     },
     "output_type": "display_data"
    }
   ],
   "source": [
    "train_loss, test_loss = iris_poly_regression(3)"
   ]
  },
  {
   "cell_type": "code",
   "execution_count": 371,
   "metadata": {},
   "outputs": [
    {
     "name": "stdout",
     "output_type": "stream",
     "text": [
      "Train Loss 0.025839500758191743\n",
      "Test Loss 0.05206682681749028\n"
     ]
    },
    {
     "data": {
      "image/png": "[encoded data removed]",
      "text/plain": [
       "<Figure size 504x360 with 1 Axes>"
      ]
     },
     "metadata": {
      "needs_background": "light"
     },
     "output_type": "display_data"
    }
   ],
   "source": [
    "train_loss, test_loss = iris_poly_regression(10)"
   ]
  },
  {
   "cell_type": "markdown",
   "metadata": {},
   "source": [
    "多項式の次数を1から10まで変化させた時の訓練データとテストデータの誤差の変化をプロットする以下の処理を完成させてください。\n",
    "\n",
    "完成したらセルを実行し、多項式の次数が大きくなると、訓練データとテストデータの誤差はそれぞれどのように変化するか観察してください。特に、次数が大きくなると訓練データの誤差が減少していきますが、テストデータの誤差は必ずしも減少しないことも確認してください。"
   ]
  },
  {
   "cell_type": "code",
   "execution_count": null,
   "metadata": {},
   "outputs": [],
   "source": [
    "degree=np.arange(1,11) # 次数(1から10)\n",
    "train_curve=[] # 各次数の訓練データ誤差のリスト\n",
    "test_curve=[] # 各次数のテストデータ誤差のリスト\n",
    "\n",
    "iris = pd.read_csv('iris.csv')\n",
    "X=iris[['petal_length']].values # 入力X\n",
    "y=iris[['petal_width']].values # 出力y\n",
    "\n",
    "X_train, X_test, y_train, y_test = train_test_split(X, y, test_size=0.3, random_state=0)\n",
    "\n",
    "for n in degree:\n",
    "    # 入力からn次多項式の特徴量を生成\n",
    "    poly=PolynomialFeatures(degree=n, include_bias=False)\n",
    "    poly_X_train=poly.fit_transform(X_train)\n",
    "    poly_X_test=poly.fit_transform(X_test)\n",
    "\n",
    "    # 訓練データへ適合\n",
    "    model=LinearRegression(normalize=True) # normalize=Trueで各特徴量を標準化\n",
    "    model.fit(poly_X_train, y_train) \n",
    "\n",
    "    # 訓練データ誤差\n",
    "    y_predicted_train = ###訓練データ入力に対する出力を計算するコード###\n",
    "    train_loss = ### 訓練データの誤差を計算するコード ###\n",
    "    ### train_curveにtrain_lossを追加するコード ###\n",
    "\n",
    "    # テストデータ誤差\n",
    "    y_predicted_test = ###テストデータ入力に対する出力を計算するコード###\n",
    "    test_loss = ### テストデータの誤差を計算するコード ###\n",
    "    ### test_curveにtest_lossを追加するコード ###\n",
    "    \n",
    "plt.figure(figsize=(7,5))\n",
    "plt.xlabel('degree')\n",
    "plt.ylabel('mean squared error')    \n",
    "plt.plot(degree, train_curve, color='red'); # 訓練データ誤差曲線\n",
    "plt.plot(degree, test_curve, color='blue'); # テストデータ誤差曲線"
   ]
  },
  {
   "cell_type": "markdown",
   "metadata": {},
   "source": [
    "## Q1.2 正則化\n",
    "以下では、学習モデルとして`LinearRegression`の代わりに`Ridge`（リッジ回帰）を使っています。`Ridge`クラスは、$L_2$ノルムを正則化に用いた線形回帰モデルで学習を行うことができます。パラメータ`alpha`に正則化項の係数（講義資料中の$\\lambda$）を指定します。\n",
    "\n",
    "[Ridge](https://scikit-learn.org/stable/modules/generated/sklearn.linear_model.Ridge.html)\n",
    "\n",
    "Q1.1で観察した過学習が、正則化により抑えられていることを観察してください。また、正則化項の係数のハイパーパラメータを変化させた時（例えば、0.01, 0.1, 1, 10など）、入力（`petal_length`の値）と出力（入力から予測された`petal_width`の値）の対応がどのように変化するかその時の誤差の値とともに観察してください。正則化項の係数を大きするとアンダーフィッティングが起こることを確認してください。"
   ]
  },
  {
   "cell_type": "code",
   "execution_count": 372,
   "metadata": {},
   "outputs": [],
   "source": [
    "from sklearn.metrics import mean_squared_error\n",
    "from sklearn.preprocessing import PolynomialFeatures\n",
    "from sklearn.linear_model import Ridge\n",
    "from sklearn.model_selection import train_test_split\n",
    "\n",
    "def iris_poly_ridge(n, a):\n",
    "    # 引数 n: 多項式の次数 \n",
    "    # 引数 a: 正則化項の係数\n",
    "\n",
    "    iris = pd.read_csv('iris.csv')\n",
    "    X=iris[['petal_length']].values # 入力X\n",
    "    y=iris[['petal_width']].values # 出力y\n",
    "    \n",
    "    X_train, X_test, y_train, y_test = train_test_split(X, y, test_size=0.3, random_state=0)\n",
    "\n",
    "    # 入力からn次多項式の特徴量を生成\n",
    "    # バイアス項はLinearRegression内で作成されるのでFalse\n",
    "    poly=PolynomialFeatures(degree=n, include_bias=False)\n",
    "    poly_X_train=poly.fit_transform(X_train)\n",
    "    poly_X_test=poly.fit_transform(X_test)\n",
    "\n",
    "    # 訓練データへ適合\n",
    "    # リッジ回帰モデル（aは正則化項の係数）\n",
    "    model=Ridge(alpha=a, normalize=True)\n",
    "    model.fit(poly_X_train, y_train) \n",
    "\n",
    "    # 訓練データ誤差\n",
    "    y_predicted_train=model.predict(poly_X_train)\n",
    "    train_loss =mean_squared_error(y_train,y_predicted_train)\n",
    "    print('Train Loss', train_loss)\n",
    "\n",
    "    # テストデータ誤差\n",
    "    y_predicted_test=model.predict(poly_X_test) \n",
    "    test_loss = mean_squared_error(y_test,y_predicted_test)\n",
    "    print('Test Loss', test_loss)\n",
    "\n",
    "    #パラメータ\n",
    "    #print(model.intercept_)\n",
    "    #print(model.coef_)\n",
    "\n",
    "    # 曲線描画用のデータポイント\n",
    "    X_point=np.arange(X.min(),X.max(),0.1)[:,np.newaxis]\n",
    "    y_point=model.predict(poly.fit_transform(X_point))\n",
    "    \n",
    "    plt.figure(figsize=(7,5))\n",
    "    plt.xlabel('petal_length')\n",
    "    plt.ylabel('petal_width')\n",
    "    plt.scatter(X_train, y_train,c='blue') # 訓練データ\n",
    "    plt.scatter(X_test, y_test,c='green') # テストデータ\n",
    "    plt.plot(X_point, y_point, color='red');\n",
    "    \n",
    "    return train_loss, test_loss"
   ]
  },
  {
   "cell_type": "code",
   "execution_count": 373,
   "metadata": {},
   "outputs": [
    {
     "name": "stdout",
     "output_type": "stream",
     "text": [
      "Train Loss 0.037519954231667145\n",
      "Test Loss 0.05343759817919628\n"
     ]
    },
    {
     "data": {
      "image/png": "[encoded data removed]",
      "text/plain": [
       "<Figure size 504x360 with 1 Axes>"
      ]
     },
     "metadata": {
      "needs_background": "light"
     },
     "output_type": "display_data"
    }
   ],
   "source": [
    "train_loss, test_loss = iris_poly_ridge(1, 0.01)"
   ]
  },
  {
   "cell_type": "code",
   "execution_count": 374,
   "metadata": {},
   "outputs": [
    {
     "name": "stdout",
     "output_type": "stream",
     "text": [
      "Train Loss 0.036714260570738094\n",
      "Test Loss 0.05292895964274187\n"
     ]
    },
    {
     "data": {
      "image/png": "[encoded data removed]",
      "text/plain": [
       "<Figure size 504x360 with 1 Axes>"
      ]
     },
     "metadata": {
      "needs_background": "light"
     },
     "output_type": "display_data"
    }
   ],
   "source": [
    "train_loss, test_loss = iris_poly_ridge(3, 0.01)"
   ]
  },
  {
   "cell_type": "code",
   "execution_count": 375,
   "metadata": {},
   "outputs": [
    {
     "name": "stdout",
     "output_type": "stream",
     "text": [
      "Train Loss 0.03077150481397505\n",
      "Test Loss 0.050220024719331235\n"
     ]
    },
    {
     "data": {
      "image/png": "[encoded data removed]",
      "text/plain": [
       "<Figure size 504x360 with 1 Axes>"
      ]
     },
     "metadata": {
      "needs_background": "light"
     },
     "output_type": "display_data"
    }
   ],
   "source": [
    "train_loss, test_loss = iris_poly_ridge(10, 0.01)"
   ]
  },
  {
   "cell_type": "markdown",
   "metadata": {},
   "source": [
    "Q1.1を参考に、上記のリッジ回帰で多項式の次数を1から10まで変化させた時の訓練データとテストデータの誤差の変化をプロットする以下の処理を完成させてください。その際、正則化項の係数は0.01など適当な値に固定してください。\n",
    "\n",
    "完成したらセルを実行し、多項式の次数が大きくなると、訓練データとテストデータの誤差はそれぞれどのように変化するか観察してください。"
   ]
  },
  {
   "cell_type": "code",
   "execution_count": null,
   "metadata": {},
   "outputs": [],
   "source": [
    "### 上記のリッジ回帰で多項式の次数を1から10まで変化させた時の\n",
    "### 訓練データとテストデータの誤差の変化曲線を表示するコード \n",
    "..."
   ]
  },
  {
   "cell_type": "markdown",
   "metadata": {},
   "source": [
    "## Q2 ロジスティック回帰"
   ]
  },
  {
   "cell_type": "markdown",
   "metadata": {},
   "source": [
    "irisデータセットの特徴量`petal_length`と`petal_width`で2つの花の種類`versicolor`か`virginica`のデータを散布図で可視化すると以下のように花ごとに`petal_length`と`petal_width`の特徴が異なることがわかります。"
   ]
  },
  {
   "cell_type": "code",
   "execution_count": 376,
   "metadata": {},
   "outputs": [
    {
     "data": {
      "image/png": "[encoded data removed]",
      "text/plain": [
       "<Figure size 504x360 with 1 Axes>"
      ]
     },
     "metadata": {
      "needs_background": "light"
     },
     "output_type": "display_data"
    }
   ],
   "source": [
    "iris = pd.read_csv('iris.csv')\n",
    "X=iris[(iris['species']=='versicolor')| (iris['species']=='virginica')][['petal_length', 'petal_width']].values\n",
    "y=iris[(iris['species']=='versicolor')| (iris['species']=='virginica')][['species']].values\n",
    "y = (y=='versicolor').astype(np.int) # versicolorを1、virginicaを0に\n",
    "\n",
    "plt.figure(figsize=(7,5))\n",
    "plt.xlabel('petal_length')\n",
    "plt.ylabel('petal_width')\n",
    "plt.scatter(X[:,0], X[:,1], c=y[:,0]);"
   ]
  },
  {
   "cell_type": "markdown",
   "metadata": {},
   "source": [
    "以下では、ロジスティック回帰により特徴量`petal_length`と`petal_width`から2つの花の種類`versicolor`か`virginica`を予測するような仮説関数のパラメータを学習することを考えます。\n",
    "\n",
    "まず準備として、特徴量`petal_length`と`petal_width`を入力$X$, 花の種類`versicolor`か`virginica`を出力（ラベル）$y$とします。入力$X$は各特徴量ごとに標準化し、入力の各データにバイアス項($x_0=1$)を追加するため、入力の先頭列に1を要素とする列ベクトルを挿入します。これにより、入力$X$と出力$y$はデータ数を$m$としてそれぞれ行列（$m \\times 3$) とベクトル($m \\times 1$)になります。"
   ]
  },
  {
   "cell_type": "code",
   "execution_count": 377,
   "metadata": {},
   "outputs": [
    {
     "name": "stdout",
     "output_type": "stream",
     "text": [
      "[[ 1.         -0.25077906 -0.65303909]\n",
      " [ 1.         -0.49425387 -0.41643072]\n",
      " [ 1.         -0.00730424 -0.41643072]\n",
      " [ 1.         -1.10294091 -0.88964745]\n",
      " [ 1.         -0.37251647 -0.41643072]\n",
      " [ 1.         -0.49425387 -0.88964745]\n",
      " [ 1.         -0.25077906 -0.17982236]\n",
      " [ 1.         -1.95510276 -1.59947255]\n",
      " [ 1.         -0.37251647 -0.88964745]\n",
      " [ 1.         -1.22467832 -0.65303909]]\n"
     ]
    }
   ],
   "source": [
    "X_norm=(X-np.mean(X, axis=0))/np.std(X, axis=0) # 標準化\n",
    "X_norm = np.hstack([np.ones((X.shape[0],1)), X_norm]) # バイアス項の追加\n",
    "print(X_norm[:10,:]) # 先頭１０行"
   ]
  },
  {
   "cell_type": "markdown",
   "metadata": {},
   "source": [
    "### Q2.1 シグモイド関数\n",
    "シグモイド関数$g(z)$は以下のように定義されます\n",
    "\n",
    "$g(z)=\\frac{1}{1+e^{-z}}$\n",
    "\n",
    "引数に`NumPy`の実数値を要素とする任意の長さの配列を入力として受け取り、配列の各要素に対するシグモイド関数の値を要素とする配列を返す`sigmoid`関数を完成させてください。\n",
    "\n",
    "[NumPyの指数関数](https://docs.scipy.org/doc/numpy/reference/generated/numpy.exp.html)"
   ]
  },
  {
   "cell_type": "code",
   "execution_count": null,
   "metadata": {},
   "outputs": [],
   "source": [
    "def sigmoid(Z):\n",
    "    Z = Z.astype(np.float) # float型にしておく\n",
    "    return ### 配列Zの各要素に対するシグモイド関数の値を計算しそれら要素とする配列を返すコード ###"
   ]
  },
  {
   "cell_type": "markdown",
   "metadata": {},
   "source": [
    "`sigmoid`関数は入力の配列`[-1,0,1]`に対しては、配列`[0.26894142, 0.5, 0.73105858]`を返します。"
   ]
  },
  {
   "cell_type": "code",
   "execution_count": null,
   "metadata": {},
   "outputs": [],
   "source": [
    "sigmoid(np.array([-1,0,1]))"
   ]
  },
  {
   "cell_type": "markdown",
   "metadata": {},
   "source": [
    "### Q2.2 コスト関数とパラメータの推定\n",
    "\n",
    "以下では、最急降下法により、訓練データセットを元にロジスティック回帰の仮説関数のパラメータを学習する`graddes_logit`関数を実装します。\n",
    "\n",
    "`graddes_logit`関数では第1引数に入力のデータ行列（データ数($m$)$\\times$(特徴量+バイアス)($n$))、第2引数に入力の各データに対する出力（正解）のベクトル（$m\\times1$）、第3引数に学習率、第4引数に学習の繰り返し（各繰り返しをエポックと呼ぶ）の回数を受け取ります。\n",
    "\n",
    "これらの引数を元に、`graddes_logit`関数ではパラメータの学習を行い、以下を返します\n",
    "\n",
    "- エポックごとのコスト関数の値を要素とするリスト\n",
    "- 最終的なパラメータの値を要素とする配列（$n\\times1$）を返します。\n",
    "\n",
    "\n",
    "パラメータを$\\theta=(\\theta_0, \\theta_1, ..., \\theta_{n-1})^T$\n",
    "\n",
    "仮説関数を$h(x)=g(\\theta_0+\\theta_1x_1+\\theta_2x_2+....+\\theta_{n-1}x_{n-1})=g(\\theta^Tx)=\\frac{1}{1+e^{-\\theta^Tx}}$\n",
    "\n",
    "入力を$\n",
    "  X = \\left(\n",
    "    \\begin{array}{cccc}\n",
    "      x_0^{(1)} &   x_1^{(1)} & ... &   x_{n-1}^{(1)}  \\\\\n",
    "      ... & ...& ...&...\\\\\n",
    "      x_0^{(m)} &  x_1^{(m)} & ... &   x_{n-1}^{(m)}  \\\\\n",
    "    \\end{array}\n",
    "  \\right)\n",
    "$ \n",
    "\n",
    "$X$において$x_0^{(i)}=1$\n",
    "\n",
    "出力を$y=(y^{(1)}, y^{(2)}, ..., y^{(m)})^T$\n",
    "\n",
    "とすると、ロジスティック回帰のコスト関数を以下のようにして\n",
    "\n",
    "$J(\\theta)=-\\frac{1}{m}\\Sigma_{i=1}^{m}(y^{(i)}log(h(x^{(i)}))+(1-y^{(i)})log(1-h(x^{(i)})))$\n",
    "\n",
    "最急降下法では入力$X$の各特徴量$x_j$に対するパラメータ$\\theta_j$を以下の様に更新していきます。\n",
    "\n",
    "$\\theta_j:= \\theta_j - \\alpha \\frac{\\partial J(\\theta)}{\\partial \\theta_j} =  \\theta_j - \\frac{\\alpha}{m} \\Sigma_{i=1}^m ((h(x^{(i)})-y^{(i)})x^{(i)}_j)$\n",
    "\n",
    "パラメータ全体を以下のように一度に更新することもできます。\n",
    "\n",
    "$\\theta := \\theta - \\frac{\\alpha}{m}X^T(g(X\\theta)-y)$\n",
    "\n",
    "入力が1特徴量（変数）の時は、バイアス項に対するパラメータを$\\theta_0$、入力変数に対するパラメータを$\\theta_1$としてパラメータは以下の様に更新されます。\n",
    "\n",
    "$\\theta_0 := \\theta_0 - \\frac{\\alpha}{m}\\Sigma_{i=1}^m (h(x^{(i)})-y^{(i)})$ \n",
    "\n",
    "$\\theta_1 := \\theta_1 - \\frac{\\alpha}{m}\\Sigma_{i=1}^m ((h(x^{(i)})-y^{(i)})x^{(i)})$\n",
    "\n",
    "具体的に、`graddes_logit`関数では以下の手順によりパラメータの学習を行います。\n",
    "\n",
    "- 引数`n_iter`で指定されたエポックの回数だけ以下を繰り返す    \n",
    "\n",
    "     - すべてのm個のデータについて以下を求める\n",
    "        \n",
    "        - 入力データ$x^{(i)}$について仮説関数$h(x^{(i)})$の値を求める\n",
    "        \n",
    "        - 出力$y^{(i)}$との誤差$h(x^{(i)})-y^{(i)}$の値を求める\n",
    "    \n",
    " - すべてのm個のデータの誤差を用いてコスト関数$ J(\\theta)$の値を求め、各エポックのコスト関数の値を要素とするリスト`costs`に追加\n",
    " \n",
    " - すべてのm個のデータの誤差を用いて各パラメータ$\\theta_j (j=0,..,n-1)$を更新し、パラメータの値を要素とする配列`w`を更新\n",
    "      - `w[0,0]`$:=$($x_0$に対するパラメータ$\\theta_0$), \n",
    "      - ...,\n",
    "      - `w[n-1,0]`$:=$($x_{n-1}$に対するパラメータ$\\theta_{n-1}$)\n",
    "        \n",
    "\n",
    " \n",
    " すべての繰り返しが終了したらリスト`costs`と配列`w`を返す。\n",
    " \n",
    " 上記に従って、`graddes_logit`関数を完成させてください。"
   ]
  },
  {
   "cell_type": "code",
   "execution_count": null,
   "metadata": {},
   "outputs": [],
   "source": [
    "def graddes_logit(X, y, alpha, n_iter):  \n",
    "    m = X.shape[0] # データ数\n",
    "    n =  X.shape[1] # 次元（特徴量）数\n",
    "    \n",
    "    costs=[] # エポックごとのコスト関数の値を入れるリスト\n",
    "    w = np.zeros((n,1)) #  バイアスと各特徴量に対するパラメータ（重み）の初期化\n",
    "    \n",
    "    for i in range(n_iter):\n",
    "        ### コスト関数の計算とパラメータの更新をするコード ###\n",
    "            # 課題8のgraddes関数と手続きは同じです\n",
    "            # ロジスティック回帰では仮説関数h(x)がシグモイド関数になっていることに注意してください\n",
    "            # ロジスティック回帰のコスト関数にすることに注意してください\n",
    "        \n",
    "    return costs, w"
   ]
  },
  {
   "cell_type": "markdown",
   "metadata": {},
   "source": [
    "`graddes_logit`関数が完成したら以下のセルを実行して動作を確認してください。`graddes_logit`関数に訓練データセットを与え、学習率を0.1、学習のエポック数を100とした時の各エポックごとのコスト関数の値を示しています。パラメータの学習が進むにつれてコスト関数の値が減少していくことがわかります。この時の最終的なコスト関数の値は$\\simeq 0.199$となります。"
   ]
  },
  {
   "cell_type": "code",
   "execution_count": null,
   "metadata": {},
   "outputs": [],
   "source": [
    "a=0.1 # 学習率\n",
    "n=100 # 繰り返し回数\n",
    "costs, w = graddes_logit(X_norm, y, a, n)\n",
    "print(costs[-1])\n",
    "print(w)\n",
    "plt.figure(figsize=(7,5))\n",
    "plt.plot(range(1,n+1),costs) # 繰り返しとコスト関数のプロット\n",
    "plt.ylabel('Cost')\n",
    "plt.xlabel('Iteration');"
   ]
  },
  {
   "cell_type": "code",
   "execution_count": null,
   "metadata": {},
   "outputs": [],
   "source": [
    "assert int(graddes_logit(X_norm, y, 0.1, 100)[0][-1]*1000)==199\n",
    "assert int(graddes_logit(X_norm, y, 0.05, 100)[0][-1]*1000)==260"
   ]
  },
  {
   "cell_type": "markdown",
   "metadata": {},
   "source": [
    "学習されたパラメータを元に、2つの特徴量、`petal_length`と`petal_width`、から2つの花の種類、`versicolor`か`virginica`、を分類するための決定境界を可視化してみます。"
   ]
  },
  {
   "cell_type": "code",
   "execution_count": null,
   "metadata": {},
   "outputs": [],
   "source": [
    "plt.figure(figsize=(7,5))\n",
    "x1=np.arange(X_norm[:,1].min(),X_norm[:,1].max(),0.1)\n",
    "plt.plot(x1, -(w[1,0]*x1+w[0,0])/w[2,0])\n",
    "plt.xlabel('petal_length')\n",
    "plt.ylabel('petal_width')\n",
    "plt.scatter(X_norm[:,1], X_norm[:,2],c=y[:,0]);"
   ]
  },
  {
   "cell_type": "markdown",
   "metadata": {},
   "source": [
    "2つの特徴量、`petal_length`($x_1$)と`petal_width`($x_2$)に対する、仮説関数$y=\\frac{1}{1+e^{-(\\theta_0+\\theta_1x_1+\\theta_2x_2)}}$（ロジスティック関数）は以下のようになります。以下の曲面で$y=0.5$となるところが上記の決定境界になっています。"
   ]
  },
  {
   "cell_type": "code",
   "execution_count": null,
   "metadata": {},
   "outputs": [],
   "source": [
    "from mpl_toolkits.mplot3d import Axes3D\n",
    "\n",
    "X1, X2 = np.meshgrid(np.arange(-2.0, 2.0, 0.1), np.arange(-2.0, 2.0, 0.1))\n",
    "Z = sigmoid(w[0,0]+w[1,0]*X1+ w[2,0]*X2)\n",
    "\n",
    "fig = plt.figure(figsize=(10,7))\n",
    "ax = fig.add_subplot(111, projection=\"3d\")\n",
    "ax.set_xlabel(\"petal_length\")\n",
    "ax.set_ylabel(\"petal_widht\")\n",
    "ax.plot_wireframe(X1, X2, Z);"
   ]
  },
  {
   "cell_type": "markdown",
   "metadata": {},
   "source": [
    "## Q3 応用\n",
    "### Q3.1\n",
    "以下のような形式の市区町村別統計データのファイル、\"SSDSE2019.csv\"、を読み込みます。\n",
    "\n",
    "```Python\n",
    "## SSDSE2019.csvファイル\n",
    "Code, Prefecture, Municipality, A1101, A110101, A110102, ..., B1101\n",
    "Year, 年度, 年度, 2015, 2015, 2015, ..., 2016\n",
    "地域コード, 都道府県, 市区町村, 人口総数, 人口総数（男）, 人口総数（女）, ..., 総面積\n",
    "R01100, 北海道, 札幌市, 1952356, 910614, 1041742, ..., 112126\n",
    "R01202, 北海道, 函館市, 265979, 120376, 145603, ..., 67786\n",
    "R01203, 北海道, 小樽市, 121924, 54985, 66939, ..., 24383\n",
    "...\n",
    "```\n",
    "\n",
    "`pandas`モジュールでは、\"SSDES2019.csv\"ファイルから以下のようにデータフレーム`df`を作成できます。この時、csvファイルの2,3行目（日本語ヘッダ）は`skiprows=[1,2]`で読み飛ばしています。\n",
    "```Python\n",
    "df = pd.read_csv('SSDSE2019.csv',  skiprows=[1,2])\n",
    "```\n",
    "\n",
    "北海道と東京都の各市区町村（札幌市を除く）を人口総数（A1101）と総面積（B1101）で散布図により可視化すると以下のようになります。"
   ]
  },
  {
   "cell_type": "code",
   "execution_count": 378,
   "metadata": {},
   "outputs": [
    {
     "data": {
      "image/png": "[encoded data removed]",
      "text/plain": [
       "<Figure size 504x360 with 1 Axes>"
      ]
     },
     "metadata": {
      "needs_background": "light"
     },
     "output_type": "display_data"
    }
   ],
   "source": [
    "df = pd.read_csv('SSDSE2019.csv', skiprows=[1,2])\n",
    "df=df[((df['Prefecture']=='北海道') & (df['Municipality'] !='札幌市'))|(df['Prefecture']=='東京都')] # 北海道と東京都の市町村\n",
    "df['Prefecture'] = df['Prefecture'].map( {'北海道': 1, '東京都': 0} ).astype(int) # 北海道を1、東京都を0に\n",
    "\n",
    "plt.figure(figsize=(7,5))\n",
    "plt.xlabel('population')\n",
    "plt.ylabel('land area')\n",
    "plt.scatter(df['A1101'], df['B1101'],c=df['Prefecture']);"
   ]
  },
  {
   "cell_type": "markdown",
   "metadata": {},
   "source": [
    "上記のQ2で行ったロジスティック回帰のパラメータ推定を参考に、市区長村の人口総数$x_1$と面積$x_2$からその市区町村が北海道（1）か東京都（0）かを予測するような仮説関数$y=\\frac{1}{1+e^{-(\\theta_0+\\theta_1x_1+\\theta_2x_2)}}$のパラメータ$\\theta_0, \\theta_1, \\theta_2$を学習し、学習されたパラメータを元に決定境界を可視化してください。"
   ]
  },
  {
   "cell_type": "code",
   "execution_count": null,
   "metadata": {},
   "outputs": [],
   "source": [
    "X=df[['A1101','B1101']].values # 入力: 人口総数と面積\n",
    "y=df[['Prefecture']].values # 出力: 北海道の市区町村（1）か東京都の市区町村（0）\n",
    "\n",
    "###  ロジスティック回帰により、市区長村の人口総数と面積からその市区町村が北海道（1）か東京都（0）かを予測するような\n",
    "###  仮説関数のパラメータを学習し、学習されたパラメータを元に決定境界を可視化"
   ]
  },
  {
   "cell_type": "markdown",
   "metadata": {},
   "source": [
    "### Q3.2"
   ]
  },
  {
   "cell_type": "markdown",
   "metadata": {},
   "source": [
    "タイタニック号の乗船者のデータを含むCSVファイル `'titanic.csv'` を `pandas` モジュールのデータフレームオブジェクトとしてロードし、乗船者の特徴量 （`Pclass`（客室の等級） と `Fare`（運賃）と`Age`（年齢）と`Sex`（性別）） からラベル `Survived` で表される乗客が生存したか（生存は`1`、非生存は`0`）を予測するモデルをロジスティック回帰を用いて学習し、特徴量ごとのパラメータについてどのようなことが言えるか論じてください。"
   ]
  },
  {
   "cell_type": "code",
   "execution_count": 379,
   "metadata": {},
   "outputs": [
    {
     "data": {
      "text/html": [
       "<div>\n",
       "<style scoped>\n",
       "    .dataframe tbody tr th:only-of-type {\n",
       "        vertical-align: middle;\n",
       "    }\n",
       "\n",
       "    .dataframe tbody tr th {\n",
       "        vertical-align: top;\n",
       "    }\n",
       "\n",
       "    .dataframe thead th {\n",
       "        text-align: right;\n",
       "    }\n",
       "</style>\n",
       "<table border=\"1\" class=\"dataframe\">\n",
       "  <thead>\n",
       "    <tr style=\"text-align: right;\">\n",
       "      <th></th>\n",
       "      <th>Pclass</th>\n",
       "      <th>Fare</th>\n",
       "      <th>Age</th>\n",
       "      <th>Sex</th>\n",
       "      <th>Survived</th>\n",
       "    </tr>\n",
       "  </thead>\n",
       "  <tbody>\n",
       "    <tr>\n",
       "      <th>0</th>\n",
       "      <td>3</td>\n",
       "      <td>7.2500</td>\n",
       "      <td>22.0</td>\n",
       "      <td>male</td>\n",
       "      <td>0</td>\n",
       "    </tr>\n",
       "    <tr>\n",
       "      <th>1</th>\n",
       "      <td>1</td>\n",
       "      <td>71.2833</td>\n",
       "      <td>38.0</td>\n",
       "      <td>female</td>\n",
       "      <td>1</td>\n",
       "    </tr>\n",
       "    <tr>\n",
       "      <th>2</th>\n",
       "      <td>3</td>\n",
       "      <td>7.9250</td>\n",
       "      <td>26.0</td>\n",
       "      <td>female</td>\n",
       "      <td>1</td>\n",
       "    </tr>\n",
       "    <tr>\n",
       "      <th>3</th>\n",
       "      <td>1</td>\n",
       "      <td>53.1000</td>\n",
       "      <td>35.0</td>\n",
       "      <td>female</td>\n",
       "      <td>1</td>\n",
       "    </tr>\n",
       "    <tr>\n",
       "      <th>4</th>\n",
       "      <td>3</td>\n",
       "      <td>8.0500</td>\n",
       "      <td>35.0</td>\n",
       "      <td>male</td>\n",
       "      <td>0</td>\n",
       "    </tr>\n",
       "  </tbody>\n",
       "</table>\n",
       "</div>"
      ],
      "text/plain": [
       "   Pclass     Fare   Age     Sex  Survived\n",
       "0       3   7.2500  22.0    male         0\n",
       "1       1  71.2833  38.0  female         1\n",
       "2       3   7.9250  26.0  female         1\n",
       "3       1  53.1000  35.0  female         1\n",
       "4       3   8.0500  35.0    male         0"
      ]
     },
     "execution_count": 379,
     "metadata": {},
     "output_type": "execute_result"
    }
   ],
   "source": [
    "titanic = pd.read_csv('titanic.csv')\n",
    "titanic[['Pclass','Fare','Age','Sex','Survived']].head()"
   ]
  },
  {
   "cell_type": "code",
   "execution_count": 380,
   "metadata": {},
   "outputs": [
    {
     "data": {
      "text/html": [
       "<div>\n",
       "<style scoped>\n",
       "    .dataframe tbody tr th:only-of-type {\n",
       "        vertical-align: middle;\n",
       "    }\n",
       "\n",
       "    .dataframe tbody tr th {\n",
       "        vertical-align: top;\n",
       "    }\n",
       "\n",
       "    .dataframe thead th {\n",
       "        text-align: right;\n",
       "    }\n",
       "</style>\n",
       "<table border=\"1\" class=\"dataframe\">\n",
       "  <thead>\n",
       "    <tr style=\"text-align: right;\">\n",
       "      <th></th>\n",
       "      <th>Pclass</th>\n",
       "      <th>Fare</th>\n",
       "      <th>Age</th>\n",
       "      <th>female</th>\n",
       "      <th>male</th>\n",
       "      <th>Survived</th>\n",
       "    </tr>\n",
       "  </thead>\n",
       "  <tbody>\n",
       "    <tr>\n",
       "      <th>0</th>\n",
       "      <td>3</td>\n",
       "      <td>7.2500</td>\n",
       "      <td>22.0</td>\n",
       "      <td>0</td>\n",
       "      <td>1</td>\n",
       "      <td>0</td>\n",
       "    </tr>\n",
       "    <tr>\n",
       "      <th>1</th>\n",
       "      <td>1</td>\n",
       "      <td>71.2833</td>\n",
       "      <td>38.0</td>\n",
       "      <td>1</td>\n",
       "      <td>0</td>\n",
       "      <td>1</td>\n",
       "    </tr>\n",
       "    <tr>\n",
       "      <th>2</th>\n",
       "      <td>3</td>\n",
       "      <td>7.9250</td>\n",
       "      <td>26.0</td>\n",
       "      <td>1</td>\n",
       "      <td>0</td>\n",
       "      <td>1</td>\n",
       "    </tr>\n",
       "    <tr>\n",
       "      <th>3</th>\n",
       "      <td>1</td>\n",
       "      <td>53.1000</td>\n",
       "      <td>35.0</td>\n",
       "      <td>1</td>\n",
       "      <td>0</td>\n",
       "      <td>1</td>\n",
       "    </tr>\n",
       "    <tr>\n",
       "      <th>4</th>\n",
       "      <td>3</td>\n",
       "      <td>8.0500</td>\n",
       "      <td>35.0</td>\n",
       "      <td>0</td>\n",
       "      <td>1</td>\n",
       "      <td>0</td>\n",
       "    </tr>\n",
       "  </tbody>\n",
       "</table>\n",
       "</div>"
      ],
      "text/plain": [
       "   Pclass     Fare   Age  female  male  Survived\n",
       "0       3   7.2500  22.0       0     1         0\n",
       "1       1  71.2833  38.0       1     0         1\n",
       "2       3   7.9250  26.0       1     0         1\n",
       "3       1  53.1000  35.0       1     0         1\n",
       "4       3   8.0500  35.0       0     1         0"
      ]
     },
     "execution_count": 380,
     "metadata": {},
     "output_type": "execute_result"
    }
   ],
   "source": [
    "# カテゴリカルな特徴量である性別からmaleとfemaleの特徴量を新たに作る　（onehot ecoding）\n",
    "# onehot codingせずに性別を単に1or0に置き換えてもよい\n",
    "gender = pd.get_dummies(titanic['Sex'])\n",
    "df = pd.concat([titanic, gender], axis=1)\n",
    "df[['Pclass','Fare','Age','female','male','Survived']].head()"
   ]
  },
  {
   "cell_type": "code",
   "execution_count": null,
   "metadata": {},
   "outputs": [],
   "source": [
    "X = df[['Pclass','Fare','Age','female','male']].values\n",
    "y = df[['Survived']].values\n",
    "..."
   ]
  },
  {
   "cell_type": "markdown",
   "metadata": {},
   "source": [
    "## 参考：scikit-learnでのロジスティック回帰\n",
    "以下では、ロジスティック回帰（`LogisticRegression`）クラスをインポートしています。`train_test_split()`はデータセットを学習データとテストデータに分割するための関数、`accuracy_score()`はモデルの予測精度を評価するための関数です。\n",
    "\n",
    "[LogisticRegression](https://scikit-learn.org/stable/modules/generated/sklearn.linear_model.LogisticRegression.html)\n",
    "\n",
    "Q2と同じ特徴量データ（`X`）とラベルデータ（`y`）からなるデータセットを学習データ（`X_train`, `y_train`）とテストデータ（`X_test`, `y_test`)に分割しています。ここでは、`train_test_split()`関数の`test_size`引数にデータセットの30%をテストデータとすることを指定しています。また、`stratify`引数にラベルデータを指定することで、学習データとテストデータ、それぞれでラベルの分布が同じになるようにしています。入力の特徴量は`StandardScaler`で標準化しています。\n",
    "\n",
    "ロジスティック回帰クラスのインスタンスを作成し、**`fit`**`()`メソッドによりモデルを学習データに適合させています。そして、**`predict`**`()`メソッドを用いてテストデータのラベルを予測し、`accuracy_score()`関数などで実際のラベルデータ（`y_test`）と比較して予測精度の評価を行なっています。"
   ]
  },
  {
   "cell_type": "code",
   "execution_count": 381,
   "metadata": {},
   "outputs": [],
   "source": [
    "from sklearn.linear_model import LogisticRegression\n",
    "from sklearn.model_selection import train_test_split\n",
    "from sklearn.preprocessing import StandardScaler\n",
    "from sklearn.metrics import accuracy_score, confusion_matrix,  precision_score, recall_score, f1_score\n",
    "\n",
    "iris = pd.read_csv('iris.csv')\n",
    "X=iris[(iris['species']=='versicolor')| (iris['species']=='virginica')][['petal_length', 'petal_width']].values\n",
    "y=iris[(iris['species']=='versicolor')| (iris['species']=='virginica')]['species'].map({'virginica':0,'versicolor':1})\n",
    "\n",
    "# 訓練データとテストデータに分割\n",
    "X_train, X_test, y_train, y_test = train_test_split(X, y, test_size=0.3, random_state=1, stratify=y)\n",
    "\n",
    "# 標準化\n",
    "sc=StandardScaler() \n",
    "sc.fit(X_train)\n",
    "norm_X_train=sc.transform(X_train) \n",
    "norm_X_test=sc.transform(X_test) "
   ]
  },
  {
   "cell_type": "code",
   "execution_count": 382,
   "metadata": {},
   "outputs": [
    {
     "name": "stdout",
     "output_type": "stream",
     "text": [
      "[[14  1]\n",
      " [ 0 15]]\n",
      "0.9666666666666667\n",
      "0.9375\n",
      "1.0\n",
      "0.967741935483871\n"
     ]
    }
   ],
   "source": [
    "model=LogisticRegression(solver='lbfgs',  multi_class='auto') # ロジスティック回帰モデル\n",
    "model.fit(norm_X_train, y_train) # モデルを訓練データに適合\n",
    "\n",
    "#print(model.coef_) # パラメータ重み\n",
    "#print(model.intercept_) # バイアス重み\n",
    "\n",
    "y_pred=model.predict(norm_X_test) # テストデータでラベルを予測\n",
    "\n",
    "# print(model.predict_proba(norm_X_test)) # 各テストデータのラベル1or0であるかの確率の推定値\n",
    "\n",
    "print(confusion_matrix(y_test, y_pred)) # 混同行列\n",
    "print(accuracy_score(y_test, y_pred)) # accuracy\n",
    "print(precision_score(y_test, y_pred)) # precision\n",
    "print(recall_score(y_test, y_pred)) # recall\n",
    "print(f1_score(y_test, y_pred))  # f値"
   ]
  },
  {
   "cell_type": "markdown",
   "metadata": {},
   "source": [
    "`LogisticRegression`ではデフォルトで正則化（$L_2$ノルム）が有効になっています。引数`C`は正則化項の係数の逆数になっています。"
   ]
  },
  {
   "cell_type": "code",
   "execution_count": 383,
   "metadata": {},
   "outputs": [
    {
     "name": "stdout",
     "output_type": "stream",
     "text": [
      "[[14  1]\n",
      " [ 0 15]]\n",
      "0.9666666666666667\n",
      "0.9375\n",
      "1.0\n",
      "0.967741935483871\n"
     ]
    }
   ],
   "source": [
    "model=LogisticRegression(solver='lbfgs',  multi_class='auto', C=100) # ロジスティック回帰モデル、正則化の係数を指定\n",
    "model.fit(norm_X_train, y_train) # モデルを訓練データに適合\n",
    "\n",
    "#print(model.coef_) # パラメータ重み\n",
    "#print(model.intercept_) # バイアス重み\n",
    "\n",
    "y_pred=model.predict(norm_X_test) # テストデータでラベルを予測\n",
    "\n",
    "# print(model.predict_proba(norm_X_test)) # 各テストデータのラベル1or0であるかの確率の推定値\n",
    "\n",
    "print(confusion_matrix(y_test, y_pred)) # 混同行列\n",
    "print(accuracy_score(y_test, y_pred)) # accuracy\n",
    "print(precision_score(y_test, y_pred)) # precision\n",
    "print(recall_score(y_test, y_pred)) # recall\n",
    "print(f1_score(y_test, y_pred))  # f値"
   ]
  }
 ],
 "metadata": {
  "kernelspec": {
   "display_name": "Python 3",
   "language": "python",
   "name": "python3"
  },
  "language_info": {
   "codemirror_mode": {
    "name": "ipython",
    "version": 3
   },
   "file_extension": ".py",
   "mimetype": "text/x-python",
   "name": "python",
   "nbconvert_exporter": "python",
   "pygments_lexer": "ipython3",
   "version": "3.7.3"
  }
 },
 "nbformat": 4,
 "nbformat_minor": 2
}
