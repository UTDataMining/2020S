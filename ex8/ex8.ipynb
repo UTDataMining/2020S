{
 "cells": [
  {
   "cell_type": "markdown",
   "metadata": {},
   "source": [
    "# 課題8 線形回帰\n",
    "\n",
    "配点\n",
    "- Q1.1 0.5P\n",
    "- Q1.2 0.5P\n",
    "- Q1.3 2P\n",
    "- Q1.4 1P\n",
    "- Q2 2P\n",
    "- Q3.1 1P\n",
    "- Q3.2 3P"
   ]
  },
  {
   "cell_type": "code",
   "execution_count": 3,
   "metadata": {},
   "outputs": [],
   "source": [
    "# モジュールのインポート\n",
    "import numpy as np\n",
    "import pandas as pd\n",
    "import matplotlib.pyplot as plt\n",
    "%matplotlib inline"
   ]
  },
  {
   "cell_type": "markdown",
   "metadata": {},
   "source": [
    "## Q1.1 特徴間の相関係数（復習）"
   ]
  },
  {
   "cell_type": "markdown",
   "metadata": {},
   "source": [
    "irisデータセットの特徴量`petal_length`と`petal_width`の関係を散布図で可視化すると以下のように2つの特徴量間に関係があることがわかります。"
   ]
  },
  {
   "cell_type": "code",
   "execution_count": 4,
   "metadata": {},
   "outputs": [
    {
     "data": {
      "image/png": "[encoded data removed]",
      "text/plain": [
       "<Figure size 504x360 with 1 Axes>"
      ]
     },
     "metadata": {
      "needs_background": "light"
     },
     "output_type": "display_data"
    }
   ],
   "source": [
    "iris = pd.read_csv('iris.csv')\n",
    "\n",
    "plt.figure(figsize=(7,5))\n",
    "plt.xlabel('petal_length')\n",
    "plt.ylabel('petal_width')\n",
    "plt.scatter(iris['petal_length'], iris['petal_width'], c='blue');"
   ]
  },
  {
   "cell_type": "markdown",
   "metadata": {},
   "source": [
    "irisデータセットの特徴量`petal_length`と`petal_width`のデータを`NumPy`の1次元配列として受け取って、それらの相関係数を返す以下の関数`petal_corr()`を完成させてください。"
   ]
  },
  {
   "cell_type": "code",
   "execution_count": null,
   "metadata": {},
   "outputs": [],
   "source": [
    "def petal_corr(x, y):\n",
    "    return ### 1次元配列xと1次元配列yの相関係数を計算するコード ###"
   ]
  },
  {
   "cell_type": "markdown",
   "metadata": {},
   "source": [
    "関数`petal_corr()`が完成したら以下のセルを実行して動作を確認してください。以下では`pandas`シリーズオブジェクトの`values`属性を用いて特徴量データを`NumPy`の配列にして関数`petal_corr()`の引数に渡しています。相関係数は$\\simeq0.96$となります。"
   ]
  },
  {
   "cell_type": "code",
   "execution_count": null,
   "metadata": {},
   "outputs": [],
   "source": [
    "X=iris[['petal_length']].values # 入力X\n",
    "y=iris[['petal_width']].values # 出力y"
   ]
  },
  {
   "cell_type": "code",
   "execution_count": null,
   "metadata": {},
   "outputs": [],
   "source": [
    "petal_corr(X, y)"
   ]
  },
  {
   "cell_type": "code",
   "execution_count": null,
   "metadata": {},
   "outputs": [],
   "source": [
    "assert int(petal_corr(X, y)*100) == 96"
   ]
  },
  {
   "cell_type": "markdown",
   "metadata": {},
   "source": [
    "## Q1.2 特徴量の標準化（復習）\n",
    "\n",
    "以下では、線形回帰により特徴量`petal_length`から特徴量`petal_width`を予測するような仮説関数のパラメータを学習することを考えます。\n",
    "\n",
    "まず準備として、特徴量`petal_length`を入力$X$、特徴量`petal_length`を出力$y$としてそれぞれを標準化します。\n",
    "\n",
    "`NumPy`の任意の行数、列数の2次元配列を受け取り、各要素の値をその列の平均値と標準偏差を用いて標準化した配列を返す`normalizer()`関数を完成させてください。"
   ]
  },
  {
   "cell_type": "code",
   "execution_count": null,
   "metadata": {},
   "outputs": [],
   "source": [
    "def normalizer(mat):\n",
    "    return ### 配列matを列ごとに標準化した配列を計算するコード ###"
   ]
  },
  {
   "cell_type": "markdown",
   "metadata": {},
   "source": [
    "`normalizer()`関数が完成したら、以下のセルを実行して標準化された`X`、`y`それぞれのすべての要素の整数値の和を求めることで動作を確認してください。それぞれのすべての要素の整数値の和は`-25`、`-19`となります。（コードによってはそうならない場合もあります）"
   ]
  },
  {
   "cell_type": "code",
   "execution_count": null,
   "metadata": {},
   "outputs": [],
   "source": [
    "print(normalizer(X).astype(np.int64).sum())\n",
    "print(normalizer(y).astype(np.int64).sum())"
   ]
  },
  {
   "cell_type": "code",
   "execution_count": null,
   "metadata": {},
   "outputs": [],
   "source": [
    "assert normalizer(X).astype(np.int64).sum() == -25\n",
    "assert  normalizer(y).astype(np.int64).sum() == -19"
   ]
  },
  {
   "cell_type": "markdown",
   "metadata": {},
   "source": [
    "次に、入力の各データにバイアス項($x_0=1$)を追加するため、入力の先頭列に1を要素とする列ベクトルを挿入します。これにより、入力,　出力はデータ数を$m$として以下のような行列（$m \\times 2$) とベクトル($m \\times 1$)になります。\n",
    "\n",
    "$\n",
    "  X = \\left(\n",
    "    \\begin{array}{cc}\n",
    "      1 &   x^{(1)} \\\\\n",
    "      1 &   x^{(2)}  \\\\\n",
    "      ... & ... \\\\\n",
    "      1 &  x^{(m)}\n",
    "    \\end{array}\n",
    "  \\right)\n",
    "$\n",
    "\n",
    "$x^{(i)}$は標準化された特徴量petal_length。\n",
    "\n",
    "$\n",
    "  y = \\left(\n",
    "    \\begin{array}{c}\n",
    "       y^{(1)}  \\\\\n",
    "      ...\\\\\n",
    "        y^{(m)}  \\\\\n",
    "    \\end{array}\n",
    "  \\right)\n",
    "$\n",
    "\n",
    "$y^{(i)}$は標準化された特徴量petal_width。"
   ]
  },
  {
   "cell_type": "code",
   "execution_count": null,
   "metadata": {},
   "outputs": [],
   "source": [
    "X_norm = normalizer(X) # 入力の標準化\n",
    "y_norm = normalizer(y) # 出力の標準化\n",
    "\n",
    "X_norm = np.hstack([np.ones((X.shape[0],1)), X_norm]) # バイアス項の追加\n",
    "\n",
    "print(X_norm[:10,:]) # 先頭10行のデータ\n",
    "print(y_norm[:10]) # 先頭10行のデータ"
   ]
  },
  {
   "cell_type": "markdown",
   "metadata": {},
   "source": [
    "## Q1.3 最急降下法\n",
    "\n",
    "以下では、最急降下法により、訓練データセットを元に入力から出力を予測する仮説関数のパラメータを学習する`graddes`関数を実装します。\n",
    "\n",
    "`graddes`関数では第1引数に入力のデータ行列（データ数($m$)$\\times$(特徴量数+バイアス)($n$))、第2引数に入力の各データに対する出力（正解）のベクトル（$m\\times1$）、第3引数に学習率、第4引数に学習の繰り返し（各繰り返しをエポックと呼ぶ）の回数を受け取ります。\n",
    "\n",
    "これらの引数を元に、`graddes`関数ではパラメータの学習を行い、以下を返します\n",
    "- エポックごとのコスト関数の値を要素とするリスト\n",
    "- 最終的なパラメータの値を要素とする配列（$n\\times1$）を返します。\n",
    "\n",
    "\n",
    "\n",
    "パラメータを$\\theta=(\\theta_0, \\theta_1, ..., \\theta_{n-1})^T$\n",
    "\n",
    "仮説関数を$h(x)=\\theta_0+\\theta_1x_1+\\theta_2x_2+....+\\theta_{n-1}x_{n-1}$\n",
    "\n",
    "入力を$\n",
    "  X = \\left(\n",
    "    \\begin{array}{cccc}\n",
    "      x_0^{(1)} &   x_1^{(1)} & ... &   x_{n-1}^{(1)}  \\\\\n",
    "      ... & ...& ...&...\\\\\n",
    "      x_0^{(m)} &  x_1^{(m)} & ... &   x_{n-1}^{(m)}  \\\\\n",
    "    \\end{array}\n",
    "  \\right)\n",
    "$ \n",
    "\n",
    "$X$において$x_0^{(i)}=1$\n",
    "\n",
    "出力を$y=(y^{(1)}, y^{(2)}, ..., y^{(m)})^T$\n",
    "\n",
    "とすると、最急降下法ではコスト関数を\n",
    "\n",
    "$J(\\theta)=\\frac{1}{2m}\\Sigma_{i=1}^m (h(x^{(i)})-y^{(i)})^2$\n",
    "\n",
    "として、入力$X$の各特徴量$x_j$に対するパラメータ$\\theta_j$を以下の様に更新していきます。\n",
    "\n",
    "$\\theta_j:= \\theta_j - \\alpha \\frac{\\partial J(\\theta)}{\\partial \\theta_j} =  \\theta_j - \\frac{\\alpha}{m} \\Sigma_{i=1}^m ((h(x^{(i)})-y^{(i)})x^{(i)}_j)$\n",
    "\n",
    "パラメータ全体を以下のように一度に更新することもできます。\n",
    "\n",
    "$\\theta := \\theta - \\frac{\\alpha}{m}X^T(X\\theta-y)$\n",
    "\n",
    "入力が1特徴量（変数）の時は、バイアス項に対するパラメータを$\\theta_0$、入力変数に対するパラメータを$\\theta_1$としてパラメータは以下の様に更新されます。\n",
    "\n",
    "$\\theta_0 := \\theta_0 - \\alpha  \\Sigma_{i=1}^m (h(x^{(i)})-y^{(i)})/m$ \n",
    "\n",
    "$\\theta_1 := \\theta_1 - \\alpha  \\Sigma_{i=1}^m ((h(x^{(i)})-y^{(i)})x^{(i)})/m$\n",
    "\n",
    "具体的に、`graddes`関数では以下の手順によりパラメータの学習を行います。\n",
    "\n",
    "- 引数`n_iter`で指定されたエポックの回数だけ以下を繰り返す    \n",
    "\n",
    "     - すべてのm個のデータについて以下を求める\n",
    "        \n",
    "        - 入力データ$x^{(i)}$について仮説関数$h(x^{(i)})$の値を求める\n",
    "        \n",
    "        - 出力$y^{(i)}$との誤差$h(x^{(i)})-y^{(i)}$の値を求める\n",
    "    \n",
    "     - すべてのm個のデータの誤差を用いてコスト関数$J(\\theta)$の値を求め、各エポックのコスト関数の値を要素とするリスト`costs`に追加\n",
    " \n",
    "     - すべてのm個のデータの誤差を用いて各パラメータ$\\theta_j(j=0,..,n-1)$を更新し、パラメータの値を要素とする配列`w`を更新\n",
    "          - `w[0,0]`$:=$($x_0$に対するパラメータ$\\theta_0$), \n",
    "          - ...,\n",
    "          - `w[n-1,0]`$:=$($x_{n-1}$に対するパラメータ$\\theta_{n-1}$)\n",
    "          \n",
    " すべての繰り返しが終了したらリスト`costs`と配列`w`を返す。\n",
    " \n",
    " 上記に従って、`graddes`関数を完成させてください。"
   ]
  },
  {
   "cell_type": "code",
   "execution_count": null,
   "metadata": {},
   "outputs": [],
   "source": [
    "def graddes(X, y, alpha, n_iter):  \n",
    "    m = X.shape[0] # データ数\n",
    "    n =  X.shape[1] # 次元（特徴量+バイアス）数\n",
    "    \n",
    "    costs=[] # エポックごとのコスト関数の値を入れるリスト\n",
    "    w = np.zeros((n,1)) #  各特徴量に対するパラメータ（重み）の初期化\n",
    "    \n",
    "    for i in range(n_iter):\n",
    "\n",
    "        ### コスト関数の計算とパラメータの更新をするコード ###\n",
    "            # graddes関数は任意の次元数の入力Xを想定していますが、この一般的な実装が難しければ\n",
    "            # まずは上記の定義に従って以下のように1変数+バイアス項の入力（対応するパラメータは2つ）で\n",
    "            # 動くものを実装してもらっても構いません\n",
    "                # すべてのm個のデータの誤差(h(x)-y)を求める\n",
    "                # コスト関数Jを計算\n",
    "                #　costsにコスト関数の値を追加\n",
    "                # パラメータθ_0とθ_1を計算\n",
    "                # w[0,0]=更新されたパラメータθ_0,\n",
    "                # w[1,0]=更新されたパラメータθ_1\n",
    "            \n",
    "            # パラメータ更新ではデータ数についてのfor文とパラメータ数のfor文を回して更新していくことが考えられますが\n",
    "            # 上記のパラメータ全体を更新する行列・ベクトル演算でこれらのfor文なしにパラメータを更新できます。\n",
    "            # numpyに慣れている人はこちらの方針で実装してもらって構いません\n",
    "        \n",
    "    return costs, w"
   ]
  },
  {
   "cell_type": "markdown",
   "metadata": {},
   "source": [
    "## Q1.4 最急降下法によるパラメータ推定\n",
    "`graddes`関数が完成したら以下のセルを実行して動作を確認してください。上記のirisデータセットの特徴量`petal_length`を入力、特徴量`petal_length`を出力とした訓練データセットを与え、学習率を0.05、学習のエポック数を20とした時の最終的なコスト関数の値は$\\simeq 0.102$となります。"
   ]
  },
  {
   "cell_type": "code",
   "execution_count": null,
   "metadata": {},
   "outputs": [],
   "source": [
    "n_iter=20\n",
    "alpha=0.05\n",
    "costs, w = graddes(X_norm, y_norm, alpha, n_iter)\n",
    "print(costs[-1]) # 100エポックでのコスト関数の値\n",
    "print(w) # 推定されたパラメータ"
   ]
  },
  {
   "cell_type": "code",
   "execution_count": null,
   "metadata": {},
   "outputs": [],
   "source": [
    "assert int(costs[-1]*1000) == 102"
   ]
  },
  {
   "cell_type": "markdown",
   "metadata": {},
   "source": [
    "以下では、パラメータ推定の過程の各エポックとコスト関数の値の関係を示しています。パラメータの学習が進むにつれてコスト関数の値が減少していくことがわかります。"
   ]
  },
  {
   "cell_type": "code",
   "execution_count": null,
   "metadata": {},
   "outputs": [],
   "source": [
    "plt.figure(figsize=(7,5))\n",
    "plt.ylabel('Cost')\n",
    "plt.xlabel('Iteration');\n",
    "plt.plot(range(1,n_iter+1),costs);"
   ]
  },
  {
   "cell_type": "markdown",
   "metadata": {},
   "source": [
    "学習率0.05、学習のエポック数20として学習されたパラメータ$\\theta_0, \\theta_1$を用いて特徴量`petal_length`を入力$x$、特徴量`petal_length`を出力$y$とした時の直線$y=\\theta_0+\\theta_1x$は以下のようになります。"
   ]
  },
  {
   "cell_type": "code",
   "execution_count": null,
   "metadata": {},
   "outputs": [],
   "source": [
    "# 回帰直線のプロット\n",
    "def lineplot(X,y,w):\n",
    "    plt.figure(figsize=(7,5))\n",
    "    plt.xlabel('petal_length')\n",
    "    plt.ylabel('petal_width')\n",
    "    plt.scatter(X[:,1],y[:,0],c='blue')\n",
    "    plt.plot(X[:,1], np.dot(X,w)[:,0], color='red');\n",
    "\n",
    "lineplot(X_norm, y_norm, w)"
   ]
  },
  {
   "cell_type": "markdown",
   "metadata": {},
   "source": [
    "また、この時のコスト関数$J(\\theta)$とパラメータ$\\theta_0, \\theta_1$は以下のようになります。"
   ]
  },
  {
   "cell_type": "code",
   "execution_count": null,
   "metadata": {},
   "outputs": [],
   "source": [
    "from mpl_toolkits.mplot3d import Axes3D\n",
    "\n",
    "# コスト関数のプロット\n",
    "def costplot(X, y, w, cost):\n",
    "    w0, w1 = np.meshgrid(np.arange(-3.0, 3.0, 0.1), np.arange(-3.0, 3.0, 0.1))\n",
    "    J=np.zeros(w0.shape)\n",
    "    for i in range(w0.shape[0]):\n",
    "        for j in range(w0.shape[1]):\n",
    "            J[i,j] = np.sum((np.dot(X, np.array([[w0[i,j]],[w1[i,j]]]))-y)**2)/(2*X.shape[0])\n",
    "    fig = plt.figure(figsize=(10,7))\n",
    "    ax = fig.add_subplot(111, projection=\"3d\")\n",
    "    ax.set_xlabel(\"theta0\")\n",
    "    ax.set_ylabel(\"theta1\")\n",
    "    ax.scatter(w[0,0], w[1,0], cost, s=100, c='red')\n",
    "    ax.plot_wireframe(w0, w1, J);\n",
    "\n",
    "costplot(X_norm, y_norm, w, costs[-1] )"
   ]
  },
  {
   "cell_type": "markdown",
   "metadata": {},
   "source": [
    "学習率$\\alpha$やエポック数を変更して、その時の最終的なパラメータ、コスト関数の値をそれぞれ観察してください。\n",
    "\n",
    "コスト関数の値が十分に収束した時の学習率、エポック数で学習されたパラメータを用いて回帰直線を可視化してください。"
   ]
  },
  {
   "cell_type": "code",
   "execution_count": null,
   "metadata": {},
   "outputs": [],
   "source": [
    "n_iter = #エポック数\n",
    "alpha = #学習率\n",
    "costs, w = graddes(X_norm, y_norm, alpha, n_iter)\n",
    "print(costs[-1]) # コスト関数の値\n",
    "print(w) # 推定されたパラメータ\n",
    "\n",
    "# エポック数 vs. コスト関数\n",
    "plt.figure(figsize=(7,5))\n",
    "plt.ylabel('Cost')\n",
    "plt.xlabel('Iteration');\n",
    "plt.plot(range(1,n_iter+1),costs);\n",
    "\n",
    "# 回帰直線\n",
    "lineplot(X_norm, y_norm, w)\n",
    "\n",
    "# コスト関数\n",
    "costplot(X_norm, y_norm, w, costs[-1] )"
   ]
  },
  {
   "cell_type": "markdown",
   "metadata": {},
   "source": [
    "## Q2 正規方程式\n",
    "線形回帰のパラメータは訓練データセットの入力$X$と出力$y$に対して以下の正規方程式を解くことで解析的に求めることができます。（ただし、$X^TX$が正則（フルランク）であること。）\n",
    "\n",
    "$\\theta = (X^TX)^{-1}X^Ty$\n",
    "\n",
    "ここで、行列$A$の転置$A^T$、逆行列$A^{-1}$は`NumPy`を用いてそれぞれ以下の様に計算できます。\n",
    "\n",
    "転置$A^T$\n",
    "```Python\n",
    "A.T\n",
    "```\n",
    "\n",
    "逆行列$A^{-1}$\n",
    "```Python\n",
    "np.linalg.inv(A)\n",
    "```\n",
    "\n",
    "正規方程式を用いて、訓練データセットを元に入力から出力を予測する仮説関数のパラメータを求める`normal_equation`関数を実装してください。`normal_equation`関数では第1引数に入力のデータ行列（データ数($m$)$\\times$次元数($n$))、第2引数に入力の各データに対する出力（正解）のベクトル（$m\\times1$）を受け取り、パラメータ$\\theta$の値を要素とする配列（$n\\times1$）（Q1.3のパラメータの配列`w`と同様の形式）を返します。"
   ]
  },
  {
   "cell_type": "code",
   "execution_count": null,
   "metadata": {},
   "outputs": [],
   "source": [
    "def normal_equation(X, y):\n",
    "    return ### 正規方程式を用いてX,yからパラメータを求めるコード ###"
   ]
  },
  {
   "cell_type": "markdown",
   "metadata": {},
   "source": [
    "`normal_equation`関数が完成したら以下のセルを実行して動作を確認してください。先の最急降下法で求めたパラメータの推定値が正規方程式に基づくパラメータの解析解とよく近似していることがわかります。"
   ]
  },
  {
   "cell_type": "code",
   "execution_count": null,
   "metadata": {},
   "outputs": [],
   "source": [
    "w=normal_equation(X_norm, y_norm)\n",
    "print(w)\n",
    "\n",
    "lineplot(X_norm, y_norm, w)"
   ]
  },
  {
   "cell_type": "markdown",
   "metadata": {},
   "source": [
    "## Q3 応用\n",
    "\n",
    "以下のような形式の市区町村別統計データのファイル、\"SSDSE2019.csv\"、を読み込みます。\n",
    "\n",
    "```Python\n",
    "## SSDSE2019.csvファイル\n",
    "Code, Prefecture, Municipality, A1101, A110101, A110102, ..., I6100\n",
    "Year, 年度, 年度, 2015, 2015, 2015, ..., 2016\n",
    "地域コード, 都道府県, 市区町村, 人口総数, 人口総数（男）, 人口総数（女）, ..., 医師数\n",
    "R01100, 北海道, 札幌市, 1952356, 910614, 1041742, ..., 6614\n",
    "R01202, 北海道, 函館市, 265979, 120376, 145603, ..., 801\n",
    "R01203, 北海道, 小樽市, 121924, 54985, 66939, ..., 322\n",
    "...\n",
    "```\n",
    "\n",
    "`pandas`モジュールでは、\"SSDES2019.csv\"ファイルから以下のようにデータフレーム`df`を作成できます。この時、csvファイルの2,3行目（日本語ヘッダ）は`skiprows=[1,2]`で読み飛ばしています。\n",
    "```Python\n",
    "df = pd.read_csv('SSDSE2019.csv',  skiprows=[1,2])\n",
    "```"
   ]
  },
  {
   "cell_type": "code",
   "execution_count": 6,
   "metadata": {},
   "outputs": [
    {
     "data": {
      "text/html": [
       "<div>\n",
       "<style scoped>\n",
       "    .dataframe tbody tr th:only-of-type {\n",
       "        vertical-align: middle;\n",
       "    }\n",
       "\n",
       "    .dataframe tbody tr th {\n",
       "        vertical-align: top;\n",
       "    }\n",
       "\n",
       "    .dataframe thead th {\n",
       "        text-align: right;\n",
       "    }\n",
       "</style>\n",
       "<table border=\"1\" class=\"dataframe\">\n",
       "  <thead>\n",
       "    <tr style=\"text-align: right;\">\n",
       "      <th></th>\n",
       "      <th>Code</th>\n",
       "      <th>Prefecture</th>\n",
       "      <th>Municipality</th>\n",
       "      <th>A1101</th>\n",
       "      <th>A110101</th>\n",
       "      <th>A110102</th>\n",
       "      <th>A1102</th>\n",
       "      <th>A110201</th>\n",
       "      <th>A110202</th>\n",
       "      <th>A1301</th>\n",
       "      <th>...</th>\n",
       "      <th>H6131</th>\n",
       "      <th>H6132</th>\n",
       "      <th>I510120</th>\n",
       "      <th>I5102</th>\n",
       "      <th>I5103</th>\n",
       "      <th>I6100</th>\n",
       "      <th>I6200</th>\n",
       "      <th>I6300</th>\n",
       "      <th>J2503</th>\n",
       "      <th>J2506</th>\n",
       "    </tr>\n",
       "  </thead>\n",
       "  <tbody>\n",
       "    <tr>\n",
       "      <th>0</th>\n",
       "      <td>R01100</td>\n",
       "      <td>北海道</td>\n",
       "      <td>札幌市</td>\n",
       "      <td>1952356</td>\n",
       "      <td>910614</td>\n",
       "      <td>1041742</td>\n",
       "      <td>1937785</td>\n",
       "      <td>903535</td>\n",
       "      <td>1034250</td>\n",
       "      <td>221013</td>\n",
       "      <td>...</td>\n",
       "      <td>8502</td>\n",
       "      <td>355</td>\n",
       "      <td>178</td>\n",
       "      <td>1329</td>\n",
       "      <td>1232</td>\n",
       "      <td>6614</td>\n",
       "      <td>2113</td>\n",
       "      <td>5398</td>\n",
       "      <td>273</td>\n",
       "      <td>25742</td>\n",
       "    </tr>\n",
       "    <tr>\n",
       "      <th>1</th>\n",
       "      <td>R01202</td>\n",
       "      <td>北海道</td>\n",
       "      <td>函館市</td>\n",
       "      <td>265979</td>\n",
       "      <td>120376</td>\n",
       "      <td>145603</td>\n",
       "      <td>264537</td>\n",
       "      <td>119819</td>\n",
       "      <td>144718</td>\n",
       "      <td>27131</td>\n",
       "      <td>...</td>\n",
       "      <td>1749</td>\n",
       "      <td>41</td>\n",
       "      <td>28</td>\n",
       "      <td>216</td>\n",
       "      <td>131</td>\n",
       "      <td>801</td>\n",
       "      <td>183</td>\n",
       "      <td>680</td>\n",
       "      <td>47</td>\n",
       "      <td>3438</td>\n",
       "    </tr>\n",
       "    <tr>\n",
       "      <th>2</th>\n",
       "      <td>R01203</td>\n",
       "      <td>北海道</td>\n",
       "      <td>小樽市</td>\n",
       "      <td>121924</td>\n",
       "      <td>54985</td>\n",
       "      <td>66939</td>\n",
       "      <td>121415</td>\n",
       "      <td>54722</td>\n",
       "      <td>66693</td>\n",
       "      <td>11171</td>\n",
       "      <td>...</td>\n",
       "      <td>778</td>\n",
       "      <td>17</td>\n",
       "      <td>12</td>\n",
       "      <td>84</td>\n",
       "      <td>79</td>\n",
       "      <td>322</td>\n",
       "      <td>102</td>\n",
       "      <td>326</td>\n",
       "      <td>21</td>\n",
       "      <td>1350</td>\n",
       "    </tr>\n",
       "    <tr>\n",
       "      <th>3</th>\n",
       "      <td>R01204</td>\n",
       "      <td>北海道</td>\n",
       "      <td>旭川市</td>\n",
       "      <td>339605</td>\n",
       "      <td>156402</td>\n",
       "      <td>183203</td>\n",
       "      <td>335678</td>\n",
       "      <td>154716</td>\n",
       "      <td>180962</td>\n",
       "      <td>37173</td>\n",
       "      <td>...</td>\n",
       "      <td>1743</td>\n",
       "      <td>65</td>\n",
       "      <td>36</td>\n",
       "      <td>242</td>\n",
       "      <td>177</td>\n",
       "      <td>1339</td>\n",
       "      <td>254</td>\n",
       "      <td>867</td>\n",
       "      <td>61</td>\n",
       "      <td>5290</td>\n",
       "    </tr>\n",
       "    <tr>\n",
       "      <th>4</th>\n",
       "      <td>R01205</td>\n",
       "      <td>北海道</td>\n",
       "      <td>室蘭市</td>\n",
       "      <td>88564</td>\n",
       "      <td>43143</td>\n",
       "      <td>45421</td>\n",
       "      <td>88203</td>\n",
       "      <td>42935</td>\n",
       "      <td>45268</td>\n",
       "      <td>9185</td>\n",
       "      <td>...</td>\n",
       "      <td>621</td>\n",
       "      <td>11</td>\n",
       "      <td>6</td>\n",
       "      <td>55</td>\n",
       "      <td>45</td>\n",
       "      <td>272</td>\n",
       "      <td>63</td>\n",
       "      <td>196</td>\n",
       "      <td>10</td>\n",
       "      <td>1017</td>\n",
       "    </tr>\n",
       "  </tbody>\n",
       "</table>\n",
       "<p>5 rows × 128 columns</p>\n",
       "</div>"
      ],
      "text/plain": [
       "     Code Prefecture Municipality    A1101  A110101  A110102    A1102  \\\n",
       "0  R01100        北海道          札幌市  1952356   910614  1041742  1937785   \n",
       "1  R01202        北海道          函館市   265979   120376   145603   264537   \n",
       "2  R01203        北海道          小樽市   121924    54985    66939   121415   \n",
       "3  R01204        北海道          旭川市   339605   156402   183203   335678   \n",
       "4  R01205        北海道          室蘭市    88564    43143    45421    88203   \n",
       "\n",
       "   A110201  A110202   A1301  ...  H6131  H6132  I510120  I5102  I5103  I6100  \\\n",
       "0   903535  1034250  221013  ...   8502    355      178   1329   1232   6614   \n",
       "1   119819   144718   27131  ...   1749     41       28    216    131    801   \n",
       "2    54722    66693   11171  ...    778     17       12     84     79    322   \n",
       "3   154716   180962   37173  ...   1743     65       36    242    177   1339   \n",
       "4    42935    45268    9185  ...    621     11        6     55     45    272   \n",
       "\n",
       "   I6200  I6300  J2503  J2506  \n",
       "0   2113   5398    273  25742  \n",
       "1    183    680     47   3438  \n",
       "2    102    326     21   1350  \n",
       "3    254    867     61   5290  \n",
       "4     63    196     10   1017  \n",
       "\n",
       "[5 rows x 128 columns]"
      ]
     },
     "execution_count": 6,
     "metadata": {},
     "output_type": "execute_result"
    }
   ],
   "source": [
    "df = pd.read_csv('SSDSE2019.csv', skiprows=[1,2], encoding=\"utf-8\")\n",
    "df.head()"
   ]
  },
  {
   "cell_type": "markdown",
   "metadata": {},
   "source": [
    "\n",
    "各市区町村の人口総数（A1101）と医師数（I6100）の関係を散布図で可視化すると以下のように2つの統計に関係があることがわかります。"
   ]
  },
  {
   "cell_type": "code",
   "execution_count": 7,
   "metadata": {},
   "outputs": [
    {
     "data": {
      "image/png": "[encoded data removed]",
      "text/plain": [
       "<Figure size 504x360 with 1 Axes>"
      ]
     },
     "metadata": {
      "needs_background": "light"
     },
     "output_type": "display_data"
    }
   ],
   "source": [
    "plt.figure(figsize=(7,5))\n",
    "plt.xlabel('population')\n",
    "plt.ylabel('# of doctors')\n",
    "plt.scatter(df['A1101'], df['I6100'], c='blue');"
   ]
  },
  {
   "cell_type": "markdown",
   "metadata": {},
   "source": [
    "### Q3.1\n",
    "上記で行った線形回帰のパラメータ推定を参考に、各市町村の人口総数$x$から医師数$y$を予測するような仮説関数$y=\\theta_0+\\theta_1x$のパラメータ$\\theta_0, \\theta_1$を学習し、学習されたパラメータを元に回帰直線を可視化してください。"
   ]
  },
  {
   "cell_type": "code",
   "execution_count": null,
   "metadata": {},
   "outputs": [],
   "source": [
    "X=df[['A1101']].values # 入力：人口総数\n",
    "y=df[['I6100']].values # 出力: 医師数\n",
    "\n",
    "###  線形回帰により人口総数から医師数を予測するような仮説関数のパラメータを学習し、\n",
    "### 学習されたパラメータを元に回帰直線を可視化 "
   ]
  },
  {
   "cell_type": "markdown",
   "metadata": {},
   "source": [
    "### Q3.2\n",
    "各市町村の複数の特徴量、例えば総人口、75歳人以上人口、総面積など、を入力$X$として医師数$y$を予測するような仮説関数$y=\\theta_0+\\theta_1x_1+...+\\theta_{k}x_{k}+...$のパラメータ$\\theta$を線形回帰により学習し、特徴量ごとのパラメータについてどのようなことが言えるか論じてください。"
   ]
  },
  {
   "cell_type": "code",
   "execution_count": null,
   "metadata": {},
   "outputs": [],
   "source": [
    "X=df[[### 複数の特徴量 ###]].values\n",
    "y=df[['I6100']].values \n",
    "\n",
    "..."
   ]
  },
  {
   "cell_type": "markdown",
   "metadata": {},
   "source": [
    "## 参考：scikit-learnでの線形回帰\n",
    "`scikit-learn`では、以下の手順でデータからモデルの学習を行います。\n",
    "- 使用するモデルのクラスの選択\n",
    "- モデルのハイパーパラメータの選択とインスタンス化\n",
    "- データの準備\n",
    "    - 教師あり学習では、特徴量データとラベルデータを準備\n",
    "    - 教師あり学習では、特徴量・ラベルデータをモデル学習用の学習データとモデル評価用のテストデータに分ける\n",
    "- モデルをデータに適合（`fit()`メソッド）\n",
    "- モデルの評価\n",
    "    - 教師あり学習では、`predict()`メソッドを用いてテストデータの特徴量データからラベルデータを予測しその精度を評価を行う\n",
    "    \n",
    "以下では、回帰を行うモデルの一つである**線形回帰**（**`LinearRegression`**）クラスをインポートしています。`mean_squared_error()`は平均二乗誤差によりモデルの予測精度を評価するための関数です。\n",
    "\n",
    "データセットを訓練データ（`X_train`, `y_train`）とテストデータ（`X_test`, `y_test`)に分割し、線形回帰クラスのインスタンスの`fit()`メソッドによりモデルを訓練データに適合させています。そして、`predict()`メソッドを用いてテストデータのpetal_lengthの値からpetal_widthの値を予測し、`mean_squared_error()`関数で実際のpetal_widthの値（`y_test`）と比較して予測精度の評価を行なっています。"
   ]
  },
  {
   "cell_type": "code",
   "execution_count": 5,
   "metadata": {},
   "outputs": [
    {
     "name": "stdout",
     "output_type": "stream",
     "text": [
      "0.0887003295706348\n",
      "0.8950383106305648\n",
      "[[0.96853307]]\n",
      "[-6.70346624e-17]\n"
     ]
    },
    {
     "data": {
      "image/png": "[encoded data removed]",
      "text/plain": [
       "<Figure size 504x360 with 1 Axes>"
      ]
     },
     "metadata": {
      "needs_background": "light"
     },
     "output_type": "display_data"
    }
   ],
   "source": [
    "from sklearn.datasets import load_iris\n",
    "from sklearn.model_selection import train_test_split\n",
    "from sklearn.preprocessing import StandardScaler\n",
    "from sklearn.linear_model import LinearRegression\n",
    "from sklearn.metrics import mean_squared_error\n",
    "from sklearn.metrics import r2_score\n",
    "\n",
    "iris = pd.read_csv('iris.csv')\n",
    "X=iris[['petal_length']].values # 入力X\n",
    "y=iris[['petal_width']].values # 出力y\n",
    "\n",
    "# 訓練データとテストデータ\n",
    "X_train, X_test, y_train, y_test = train_test_split(X, y, test_size=0.3, random_state=0)\n",
    "\n",
    "# 標準化\n",
    "sc=StandardScaler() \n",
    "sc.fit(X_train)\n",
    "norm_X_train=sc.transform(X_train) \n",
    "norm_X_test=sc.transform(X_test) \n",
    "\n",
    "sc.fit(y_train)\n",
    "norm_y_train=sc.transform(y_train) \n",
    "norm_y_test=sc.transform(y_test) \n",
    "\n",
    "# 学習モデルの訓練データへの適合\n",
    "# LinearRegression()ではデフォルトでモデル内部でバイアス項が作られる（fit_intercept引数=True）\n",
    "model=LinearRegression() \n",
    "model.fit(norm_X_train, norm_y_train) \n",
    "\n",
    "# 学習モデルを用いてテストデータから予測と評価\n",
    "y_predicted=model.predict(norm_X_test) \n",
    "print(mean_squared_error(norm_y_test,y_predicted)) # 残差平方和\n",
    "print(r2_score(norm_y_test, y_predicted)) # 決定係数\n",
    "\n",
    "print(model.coef_) # 特徴量パラメータ\n",
    "print(model.intercept_) # バイアス項パラメータ\n",
    "\n",
    "plt.figure(figsize=(7,5))\n",
    "plt.xlabel('petal_length')\n",
    "plt.ylabel('petal_width')\n",
    "plt.scatter(norm_X_train[:,0], norm_y_train[:,0],c='blue') # 訓練データ\n",
    "plt.scatter(norm_X_test[:,0], norm_y_test[:,0], c='green'); # テストデータ\n",
    "plt.scatter(norm_X_test[:,0], y_predicted[:,0], c='red'); # テストデータの予測"
   ]
  }
 ],
 "metadata": {
  "kernelspec": {
   "display_name": "Python 3",
   "language": "python",
   "name": "python3"
  },
  "language_info": {
   "codemirror_mode": {
    "name": "ipython",
    "version": 3
   },
   "file_extension": ".py",
   "mimetype": "text/x-python",
   "name": "python",
   "nbconvert_exporter": "python",
   "pygments_lexer": "ipython3",
   "version": "3.7.3"
  }
 },
 "nbformat": 4,
 "nbformat_minor": 2
}
