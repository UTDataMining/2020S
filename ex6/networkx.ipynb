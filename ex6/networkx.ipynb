{
 "cells": [
  {
   "cell_type": "markdown",
   "metadata": {},
   "source": [
    "# NetworkXライブラリ\n",
    "[NetworkX](https://networkx.github.io/documentation/stable/index.html)\n",
    "\n",
    "以下ではNetworkXライブラリを用いたネットワーク（グラフ）データ処理の基礎について説明します。なお、以下は2.X系のNetworkXの説明です。2019年11月時点で最新のNetworkXのバージョンは2.4です。"
   ]
  },
  {
   "cell_type": "code",
   "execution_count": 1,
   "metadata": {},
   "outputs": [],
   "source": [
    "import networkx as nx\n",
    "from networkx.algorithms import community\n",
    "import pandas as pd\n",
    "import numpy as np\n",
    "import matplotlib.pyplot as plt\n",
    "%matplotlib inline"
   ]
  },
  {
   "cell_type": "code",
   "execution_count": 2,
   "metadata": {},
   "outputs": [],
   "source": [
    "# 空の無向グラフの作成\n",
    "G = nx.Graph()"
   ]
  },
  {
   "cell_type": "code",
   "execution_count": 3,
   "metadata": {},
   "outputs": [],
   "source": [
    "# グラフにノード追加\n",
    "G.add_node(1)\n",
    "\n",
    "# グラフにラベル付きノード追加\n",
    "G.add_node('one')\n",
    "\n",
    "# グラフに属性付きノード追加\n",
    "G.add_node(2, weight=5)\n",
    "\n",
    "# 属性には任意のオブジェクトを付加できる\n",
    "G.add_node(3, name=['node','number','three'])\n",
    "\n",
    "# リストの要素からノード追加\n",
    "# 集合, 辞書, 文字列, グラフオブジェクトも指定可能\n",
    "G.add_nodes_from([4,5,6])"
   ]
  },
  {
   "cell_type": "code",
   "execution_count": 4,
   "metadata": {},
   "outputs": [
    {
     "name": "stdout",
     "output_type": "stream",
     "text": [
      "[1, 'one', 2, 3, 4, 5, 6]\n",
      "[(1, {}), ('one', {}), (2, {'weight': 5}), (3, {'name': ['node', 'number', 'three']}), (4, {}), (5, {}), (6, {})]\n"
     ]
    }
   ],
   "source": [
    "# グラフに含まれるすべてのノードをリストとして返す\n",
    "print(G.nodes)\n",
    "print(G.nodes.data())"
   ]
  },
  {
   "cell_type": "code",
   "execution_count": 5,
   "metadata": {},
   "outputs": [
    {
     "name": "stdout",
     "output_type": "stream",
     "text": [
      "{'name': ['node', 'number', 'three']}\n",
      "['node', 'number', 'three']\n"
     ]
    }
   ],
   "source": [
    "# ノードの属性情報を辞書として返す\n",
    "print(G.nodes[3])\n",
    "print(G.nodes[3]['name'])"
   ]
  },
  {
   "cell_type": "code",
   "execution_count": 6,
   "metadata": {},
   "outputs": [
    {
     "name": "stdout",
     "output_type": "stream",
     "text": [
      "1\n",
      "one\n",
      "2\n",
      "3\n",
      "4\n",
      "5\n",
      "6\n"
     ]
    }
   ],
   "source": [
    "# ノードの繰り返し処理\n",
    "for n in G:\n",
    "    print(n)"
   ]
  },
  {
   "cell_type": "code",
   "execution_count": 7,
   "metadata": {},
   "outputs": [],
   "source": [
    "# グラフにエッジ追加\n",
    "G.add_edge(1,2)\n",
    "\n",
    "# グラフに属性付きエッジ追加\n",
    "G.add_edge(2,3, weight=10, name=\"edge from 2 to 3\")\n",
    "\n",
    "# タプルを要素としたリストからエッジ追加\n",
    "G.add_edges_from([(3,4),(3,5),(2,4)])\n",
    "\n",
    "# タプルの3番目の要素をエッジの重みとして、リストから重み付きエッジ追加\n",
    "G.add_weighted_edges_from([(4,5,20),(5,6,30)])"
   ]
  },
  {
   "cell_type": "code",
   "execution_count": 8,
   "metadata": {},
   "outputs": [
    {
     "name": "stdout",
     "output_type": "stream",
     "text": [
      "[(1, 2), (2, 3), (2, 4), (3, 4), (3, 5), (4, 5), (5, 6)]\n",
      "[(1, 2, {}), (2, 3, {'weight': 10, 'name': 'edge from 2 to 3'}), (2, 4, {}), (3, 4, {}), (3, 5, {}), (4, 5, {'weight': 20}), (5, 6, {'weight': 30})]\n"
     ]
    }
   ],
   "source": [
    "# グラフに含まれるすべてのエッジをリストとして返す\n",
    "print(G.edges)\n",
    "print(G.edges.data())"
   ]
  },
  {
   "cell_type": "code",
   "execution_count": 9,
   "metadata": {},
   "outputs": [
    {
     "name": "stdout",
     "output_type": "stream",
     "text": [
      "(1, 2)\n",
      "(2, 3)\n",
      "(2, 4)\n",
      "(3, 4)\n",
      "(3, 5)\n",
      "(4, 5)\n",
      "(5, 6)\n"
     ]
    }
   ],
   "source": [
    "# エッジの繰り返し処理\n",
    "for e in G.edges:\n",
    "    print(e)"
   ]
  },
  {
   "cell_type": "code",
   "execution_count": 10,
   "metadata": {},
   "outputs": [
    {
     "name": "stdout",
     "output_type": "stream",
     "text": [
      "[1, 3, 4]\n",
      "{1: {}, 3: {'weight': 10, 'name': 'edge from 2 to 3'}, 4: {}}\n",
      "{1: {}, 3: {'weight': 10, 'name': 'edge from 2 to 3'}, 4: {}}\n",
      "{'weight': 10, 'name': 'edge from 2 to 3'}\n",
      "{'weight': 10, 'name': 'edge from 2 to 3'}\n",
      "edge from 2 to 3\n",
      "10\n"
     ]
    }
   ],
   "source": [
    "# ノードに隣接するノード\n",
    "print(list(G.neighbors(2)))\n",
    "\n",
    "# ノードに隣接するノードの情報の辞書を返す\n",
    "print(G[2])\n",
    "print(G.adj[2])\n",
    "\n",
    "# エッジの情報\n",
    "print(G[2][3])\n",
    "print(G.edges[2, 3])\n",
    "\n",
    "# エッジの属性\n",
    "print(G[2][3]['name'])\n",
    "print(G.edges[2, 3]['weight'])"
   ]
  },
  {
   "cell_type": "code",
   "execution_count": 11,
   "metadata": {},
   "outputs": [
    {
     "data": {
      "image/png": "[encoded data removed]",
      "text/plain": [
       "<Figure size 432x288 with 1 Axes>"
      ]
     },
     "metadata": {},
     "output_type": "display_data"
    }
   ],
   "source": [
    "# グラフの描画\n",
    "nx.draw(G, with_labels=True)"
   ]
  },
  {
   "cell_type": "code",
   "execution_count": 12,
   "metadata": {},
   "outputs": [],
   "source": [
    "# グラフからノードとそのノードに接続するすべてのエッジを削除\n",
    "G.remove_node('one')\n",
    "\n",
    "# グラフからエッジを削除\n",
    "G.remove_edge(4,5)\n",
    "\n",
    "# グラフからすべてのノードとエッジを削除\n",
    "#　G.clear"
   ]
  },
  {
   "cell_type": "code",
   "execution_count": 13,
   "metadata": {},
   "outputs": [
    {
     "name": "stdout",
     "output_type": "stream",
     "text": [
      "True\n",
      "False\n"
     ]
    }
   ],
   "source": [
    "# エッジがあるかの確認\n",
    "print(G.has_edge(1,2))\n",
    "print(G.has_edge(1,3))"
   ]
  },
  {
   "cell_type": "code",
   "execution_count": 14,
   "metadata": {},
   "outputs": [
    {
     "data": {
      "image/png": "[encoded data removed]",
      "text/plain": [
       "<Figure size 432x288 with 1 Axes>"
      ]
     },
     "metadata": {},
     "output_type": "display_data"
    }
   ],
   "source": [
    "# ネットワーク図をファイルに保存\n",
    "nx.draw(G, with_labels=True)\n",
    "plt.savefig('network.png')"
   ]
  },
  {
   "cell_type": "code",
   "execution_count": 15,
   "metadata": {},
   "outputs": [
    {
     "name": "stdout",
     "output_type": "stream",
     "text": [
      "6\n",
      "6\n"
     ]
    }
   ],
   "source": [
    "# ノードの数\n",
    "print(len(G))\n",
    "\n",
    "# エッジの数\n",
    "print(G.size())"
   ]
  },
  {
   "cell_type": "code",
   "execution_count": 16,
   "metadata": {},
   "outputs": [
    {
     "name": "stdout",
     "output_type": "stream",
     "text": [
      "  (0, 1)\t1\n",
      "  (1, 0)\t1\n",
      "  (1, 2)\t1\n",
      "  (1, 3)\t1\n",
      "  (2, 1)\t1\n",
      "  (2, 3)\t1\n",
      "  (2, 4)\t1\n",
      "  (3, 1)\t1\n",
      "  (3, 2)\t1\n",
      "  (4, 2)\t1\n",
      "  (4, 5)\t1\n",
      "  (5, 4)\t1\n",
      "[[0 1 0 0 0 0]\n",
      " [1 0 1 1 0 0]\n",
      " [0 1 0 1 1 0]\n",
      " [0 1 1 0 0 0]\n",
      " [0 0 1 0 0 1]\n",
      " [0 0 0 0 1 0]]\n"
     ]
    }
   ],
   "source": [
    "# エッジの重みを1に設定し直す\n",
    "G[2][3]['weight']=1\n",
    "G[5][6]['weight']=1\n",
    "\n",
    "# グラフの隣接行列\n",
    "print(nx.adjacency_matrix(G))\n",
    "print(nx.adjacency_matrix(G).toarray())"
   ]
  },
  {
   "cell_type": "code",
   "execution_count": 17,
   "metadata": {},
   "outputs": [
    {
     "name": "stdout",
     "output_type": "stream",
     "text": [
      "[[1 0 1 1 0 0]\n",
      " [0 3 1 1 1 0]\n",
      " [1 1 3 1 0 1]\n",
      " [1 1 1 2 1 0]\n",
      " [0 1 0 1 2 0]\n",
      " [0 0 1 0 0 1]]\n"
     ]
    }
   ],
   "source": [
    "# 隣接行列の積\n",
    "A=nx.adjacency_matrix(G).toarray()\n",
    "print(np.dot(A,A))"
   ]
  },
  {
   "cell_type": "code",
   "execution_count": 18,
   "metadata": {},
   "outputs": [
    {
     "name": "stdout",
     "output_type": "stream",
     "text": [
      "[1, 2, 3, 5, 6]\n",
      "[4, 3, 5, 6]\n",
      "{1: [1], 2: [1, 2], 3: [1, 2, 3], 4: [1, 2, 4], 5: [1, 2, 3, 5], 6: [1, 2, 3, 5, 6]}\n",
      "[1, 2, 3, 5, 6]\n",
      "4\n"
     ]
    }
   ],
   "source": [
    "# 最短経路\n",
    "path = nx.shortest_path(G)\n",
    "print(path[1][6])\n",
    "print(path[4][6])\n",
    "\n",
    "# ノード1からの最短経路\n",
    "print(nx.shortest_path(G,1))\n",
    "\n",
    "# ノード1と6の間の最短経路\n",
    "print(nx.shortest_path(G,1,6))\n",
    "\n",
    "# ノード1と6の間の最短経路長\n",
    "print(nx.shortest_path_length(G,1,6))"
   ]
  },
  {
   "cell_type": "code",
   "execution_count": 19,
   "metadata": {},
   "outputs": [
    {
     "name": "stdout",
     "output_type": "stream",
     "text": [
      "1.9333333333333333\n",
      "0.27777777777777773\n"
     ]
    }
   ],
   "source": [
    "#平均最短距離\n",
    "print(nx.average_shortest_path_length(G))\n",
    "\n",
    "#平均クラスタリング係数\n",
    "print(nx.average_clustering(G))"
   ]
  },
  {
   "cell_type": "code",
   "execution_count": 20,
   "metadata": {},
   "outputs": [
    {
     "name": "stdout",
     "output_type": "stream",
     "text": [
      "{1: 0.2, 2: 0.6000000000000001, 3: 0.6000000000000001, 4: 0.4, 5: 0.4, 6: 0.2}\n",
      "{1: 0.4166666666666667, 2: 0.625, 3: 0.7142857142857143, 4: 0.5555555555555556, 5: 0.5555555555555556, 6: 0.38461538461538464}\n",
      "{1: 0.0, 2: 0.4, 3: 0.6000000000000001, 4: 0.0, 5: 0.4, 6: 0.0}\n"
     ]
    }
   ],
   "source": [
    "# 次数中心性 (次数/ネットワークの最大次数（n-1)で標準化)\n",
    "print(nx.degree_centrality(G))\n",
    "\n",
    "# 近接中心性\n",
    "print(nx.closeness_centrality(G))\n",
    "\n",
    "# 媒介中心性\n",
    "print(nx.betweenness_centrality(G))"
   ]
  },
  {
   "cell_type": "code",
   "execution_count": 21,
   "metadata": {},
   "outputs": [
    {
     "data": {
      "image/png": "[encoded data removed]",
      "text/plain": [
       "<Figure size 432x288 with 1 Axes>"
      ]
     },
     "metadata": {},
     "output_type": "display_data"
    }
   ],
   "source": [
    "# 媒介中心性の値でノードの大きさを変えて可視化\n",
    "node_size = np.array(list((nx.degree_centrality(G)).values()))\n",
    "nx.draw(G, with_labels=True,  node_size = [v * 3000 for v in node_size])"
   ]
  },
  {
   "cell_type": "code",
   "execution_count": 22,
   "metadata": {},
   "outputs": [
    {
     "data": {
      "image/png": "[encoded data removed]",
      "text/plain": [
       "<Figure size 432x288 with 1 Axes>"
      ]
     },
     "metadata": {},
     "output_type": "display_data"
    }
   ],
   "source": [
    "# 有効グラフの作成（ただし自己閉路を含まない）\n",
    "DiG = nx.DiGraph()\n",
    "DiG.add_edges_from([(1,2),(2,3),(2,4)])\n",
    "nx.draw(DiG, with_labels=True)"
   ]
  },
  {
   "cell_type": "code",
   "execution_count": 23,
   "metadata": {},
   "outputs": [
    {
     "name": "stdout",
     "output_type": "stream",
     "text": [
      "[3, 4]\n",
      "[1]\n"
     ]
    }
   ],
   "source": [
    "# 有向グラフにおける点の後続点\n",
    "print (list(DiG.successors(2)))\n",
    "\n",
    "# 有向グラフにおける点の先行点\n",
    "print(list(DiG.predecessors(2)))"
   ]
  },
  {
   "cell_type": "code",
   "execution_count": 24,
   "metadata": {},
   "outputs": [
    {
     "name": "stdout",
     "output_type": "stream",
     "text": [
      "3\n",
      "1\n",
      "2\n"
     ]
    },
    {
     "data": {
      "text/plain": [
       "[(1, 1), (2, 3), (3, 1), (4, 1)]"
      ]
     },
     "execution_count": 24,
     "metadata": {},
     "output_type": "execute_result"
    }
   ],
   "source": [
    "# ノードの次数\n",
    "print(DiG.degree(2))\n",
    "\n",
    "# ノードの入次数\n",
    "print(DiG.in_degree(2))\n",
    "\n",
    "# ノードの出次数\n",
    "print(DiG.out_degree(2))\n",
    "\n",
    "#グラフの各ノードの次数\n",
    "list(DiG.degree)"
   ]
  }
 ],
 "metadata": {
  "kernelspec": {
   "display_name": "Python 3",
   "language": "python",
   "name": "python3"
  },
  "language_info": {
   "codemirror_mode": {
    "name": "ipython",
    "version": 3
   },
   "file_extension": ".py",
   "mimetype": "text/x-python",
   "name": "python",
   "nbconvert_exporter": "python",
   "pygments_lexer": "ipython3",
   "version": "3.7.3"
  }
 },
 "nbformat": 4,
 "nbformat_minor": 2
}
